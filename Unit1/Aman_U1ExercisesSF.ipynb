{
  "nbformat": 4,
  "nbformat_minor": 0,
  "metadata": {
    "colab": {
      "provenance": []
    },
    "kernelspec": {
      "name": "python3",
      "display_name": "Python 3"
    },
    "language_info": {
      "name": "python"
    }
  },
  "cells": [
    {
      "cell_type": "markdown",
      "source": [
        "# Unit 1 Exercises: Data Structure Concepts\n",
        "\n",
        "The following questions will ask you to describe the various objects we learned about in the first Unit.\n",
        "\n",
        "I'm not giving you coding exercises, because we will learn all the coding technqiues we need as we move through the course.\n",
        "\n",
        "What I do need from you right now, is a conceptual understanding how how data is stored in our computer, when we use python."
      ],
      "metadata": {
        "id": "65OCktLjbZmA"
      }
    },
    {
      "cell_type": "markdown",
      "source": [
        "**Task1**:\n",
        "\n",
        "Describe the similarities and differences between an int and a float in python."
      ],
      "metadata": {
        "id": "bt0bWe1evLtv"
      }
    },
    {
      "cell_type": "markdown",
      "source": [
        "**Answer1**:\n",
        "\n",
        "they both are data types that save numbers. int is an integer whereas float can be a decimal too."
      ],
      "metadata": {
        "id": "FW3KHt4yvt90"
      }
    },
    {
      "cell_type": "markdown",
      "source": [
        "**Task2**:\n",
        "\n",
        "Describe the similarities and differences between: strings, lists, and dicts."
      ],
      "metadata": {
        "id": "mJ_i6he5wwgr"
      }
    },
    {
      "cell_type": "markdown",
      "source": [
        "**Answer2**:\n",
        "\n",
        "strings can only contain one sentence, line of text. a list is a data type that can save multiple individual lines of text. a dict is like a list but there is a specific key that is attached to each line of text that can help with retrieving that text w/o knowing index."
      ],
      "metadata": {
        "id": "iFu5BKyWw98T"
      }
    },
    {
      "cell_type": "markdown",
      "source": [
        "**Task3**:\n",
        "\n",
        "What is a numpy array? Why would we ever use one over a list or dict?"
      ],
      "metadata": {
        "id": "56v05s45yBHk"
      }
    },
    {
      "cell_type": "markdown",
      "source": [
        "**Answer3**:\n",
        "\n",
        "a numpy array is like a list but it can only contain one data type. with only one data type, you can achieve faster run times when performing operations with the array."
      ],
      "metadata": {
        "id": "eikgxyNzyLTY"
      }
    },
    {
      "cell_type": "markdown",
      "source": [
        "**Task4**:\n",
        "\n",
        "What is a pandas dataframe? Why would we ever want to use one over a numpy array?"
      ],
      "metadata": {
        "id": "RLaEQ5irywBl"
      }
    },
    {
      "cell_type": "markdown",
      "source": [
        "**Answer4**:\n",
        "\n",
        "a pandas dataframe can convert a numpy array into a table. you might want to use a dataframe because you can perform more operations. it also might make it easier to work with because of the added visual aid of rows/columns."
      ],
      "metadata": {
        "id": "5IkNlzYpy-HP"
      }
    },
    {
      "cell_type": "markdown",
      "source": [
        "**Task5**:\n",
        "\n",
        "What are for loops, and why would we ever use them?"
      ],
      "metadata": {
        "id": "khRn2d7qz1Y2"
      }
    },
    {
      "cell_type": "markdown",
      "source": [
        "**Answer5**:\n",
        "\n",
        "for loops are useful because you can use them to perform repeated tasks or repeated tasks with a slight variation. doing this can decrease the number of lines of code in your program."
      ],
      "metadata": {
        "id": "NAdVfRZB1d9J"
      }
    },
    {
      "cell_type": "markdown",
      "source": [
        "## Bonus: Faster Data Wrangling\n",
        "\n",
        "No, this is not extra credit. There will never be extra credit in this class. Only do these tasks if they sound fun, or to procrastinate on your other coursework."
      ],
      "metadata": {
        "id": "LQiruyOXZ5gx"
      }
    },
    {
      "cell_type": "markdown",
      "source": [
        "I mentioned in the notes that [polars](https://docs.pola.rs/user-guide/migration/pandas/#filtering) is a library that is just plain faster than pandas. I've never actually played with it myself, so I'm shifting that responsibility over to you."
      ],
      "metadata": {
        "id": "cgbgyZpiaVnE"
      }
    },
    {
      "cell_type": "markdown",
      "source": [
        "**Task6**\n",
        "\n",
        "Redo Task11 from the notes, but in polars."
      ],
      "metadata": {
        "id": "4EzSdSs7cUz0"
      }
    },
    {
      "cell_type": "code",
      "source": [
        "import polars as pl\n",
        "\n",
        "#make a string of the webpage where my data lives\n",
        "url_basketball = 'https://raw.githubusercontent.com/thedarredondo/data-science-fundamentals/main/Data/basketball2324.csv'\n",
        "#feed that string into the pandas read csv function\n",
        "boy = ps.read_csv(url_basketball)\n",
        "\n",
        "big = boy.filter(pl.col('Pos')=='PG')\n",
        "big = big.filter(pl.col('FT%')>0.9)\n",
        "big = big.filter(pl.col('FTA') > 40)\n",
        "big"
      ],
      "metadata": {
        "colab": {
          "base_uri": "https://localhost:8080/",
          "height": 224
        },
        "id": "Jo9KpAzyYMJV",
        "outputId": "9d94eb9c-8329-4b2a-ccf2-a2c10ee2bd14"
      },
      "execution_count": 13,
      "outputs": [
        {
          "output_type": "execute_result",
          "data": {
            "text/plain": [
              "shape: (4, 30)\n",
              "┌────────────────┬─────┬─────┬─────┬───┬─────┬─────┬──────┬───────────────────┐\n",
              "│ Player         ┆ Pos ┆ Age ┆ Tm  ┆ … ┆ TOV ┆ PF  ┆ PTS  ┆ Player-additional │\n",
              "│ ---            ┆ --- ┆ --- ┆ --- ┆   ┆ --- ┆ --- ┆ ---  ┆ ---               │\n",
              "│ str            ┆ str ┆ i64 ┆ str ┆   ┆ i64 ┆ i64 ┆ i64  ┆ str               │\n",
              "╞════════════════╪═════╪═════╪═════╪═══╪═════╪═════╪══════╪═══════════════════╡\n",
              "│ Mike Conley    ┆ PG  ┆ 36  ┆ MIN ┆ … ┆ 102 ┆ 128 ┆ 869  ┆ conlemi01         │\n",
              "│ Stephen Curry  ┆ PG  ┆ 35  ┆ GSW ┆ … ┆ 210 ┆ 117 ┆ 1956 ┆ curryst01         │\n",
              "│ Aaron Holiday  ┆ PG  ┆ 27  ┆ HOU ┆ … ┆ 53  ┆ 125 ┆ 514  ┆ holidaa01         │\n",
              "│ Damian Lillard ┆ PG  ┆ 33  ┆ MIL ┆ … ┆ 193 ┆ 134 ┆ 1775 ┆ lillada01         │\n",
              "└────────────────┴─────┴─────┴─────┴───┴─────┴─────┴──────┴───────────────────┘"
            ],
            "text/html": [
              "<div><style>\n",
              ".dataframe > thead > tr,\n",
              ".dataframe > tbody > tr {\n",
              "  text-align: right;\n",
              "  white-space: pre-wrap;\n",
              "}\n",
              "</style>\n",
              "<small>shape: (4, 30)</small><table border=\"1\" class=\"dataframe\"><thead><tr><th>Player</th><th>Pos</th><th>Age</th><th>Tm</th><th>G</th><th>GS</th><th>MP</th><th>FG</th><th>FGA</th><th>FG%</th><th>3P</th><th>3PA</th><th>3P%</th><th>2P</th><th>2PA</th><th>2P%</th><th>eFG%</th><th>FT</th><th>FTA</th><th>FT%</th><th>ORB</th><th>DRB</th><th>TRB</th><th>AST</th><th>STL</th><th>BLK</th><th>TOV</th><th>PF</th><th>PTS</th><th>Player-additional</th></tr><tr><td>str</td><td>str</td><td>i64</td><td>str</td><td>i64</td><td>i64</td><td>i64</td><td>i64</td><td>i64</td><td>f64</td><td>i64</td><td>i64</td><td>f64</td><td>i64</td><td>i64</td><td>f64</td><td>f64</td><td>i64</td><td>i64</td><td>f64</td><td>i64</td><td>i64</td><td>i64</td><td>i64</td><td>i64</td><td>i64</td><td>i64</td><td>i64</td><td>i64</td><td>str</td></tr></thead><tbody><tr><td>&quot;Mike Conley&quot;</td><td>&quot;PG&quot;</td><td>36</td><td>&quot;MIN&quot;</td><td>76</td><td>76</td><td>2193</td><td>294</td><td>644</td><td>0.457</td><td>179</td><td>405</td><td>0.442</td><td>115</td><td>239</td><td>0.481</td><td>0.595</td><td>102</td><td>112</td><td>0.911</td><td>37</td><td>181</td><td>218</td><td>449</td><td>88</td><td>17</td><td>102</td><td>128</td><td>869</td><td>&quot;conlemi01&quot;</td></tr><tr><td>&quot;Stephen Curry&quot;</td><td>&quot;PG&quot;</td><td>35</td><td>&quot;GSW&quot;</td><td>74</td><td>74</td><td>2421</td><td>650</td><td>1445</td><td>0.45</td><td>357</td><td>876</td><td>0.408</td><td>293</td><td>569</td><td>0.515</td><td>0.573</td><td>299</td><td>324</td><td>0.923</td><td>37</td><td>293</td><td>330</td><td>379</td><td>54</td><td>28</td><td>210</td><td>117</td><td>1956</td><td>&quot;curryst01&quot;</td></tr><tr><td>&quot;Aaron Holiday&quot;</td><td>&quot;PG&quot;</td><td>27</td><td>&quot;HOU&quot;</td><td>78</td><td>1</td><td>1269</td><td>186</td><td>417</td><td>0.446</td><td>84</td><td>217</td><td>0.387</td><td>102</td><td>200</td><td>0.51</td><td>0.547</td><td>58</td><td>63</td><td>0.921</td><td>23</td><td>100</td><td>123</td><td>140</td><td>42</td><td>6</td><td>53</td><td>125</td><td>514</td><td>&quot;holidaa01&quot;</td></tr><tr><td>&quot;Damian Lillard&quot;</td><td>&quot;PG&quot;</td><td>33</td><td>&quot;MIL&quot;</td><td>73</td><td>73</td><td>2579</td><td>541</td><td>1277</td><td>0.424</td><td>220</td><td>622</td><td>0.354</td><td>321</td><td>655</td><td>0.49</td><td>0.51</td><td>473</td><td>514</td><td>0.92</td><td>36</td><td>284</td><td>320</td><td>508</td><td>72</td><td>18</td><td>193</td><td>134</td><td>1775</td><td>&quot;lillada01&quot;</td></tr></tbody></table></div>"
            ]
          },
          "metadata": {},
          "execution_count": 13
        }
      ]
    },
    {
      "cell_type": "markdown",
      "source": [
        "**Task7**\n",
        "\n",
        "Measure how much faster polars is at the Task11 operation than pandas."
      ],
      "metadata": {
        "id": "sRyQs8QLcfnM"
      }
    },
    {
      "cell_type": "markdown",
      "source": [
        "the pandas was .222 secs and the polars was .088 secs. so it was .132 secs faster and 2.5x faster than pandas."
      ],
      "metadata": {
        "id": "lxeFE600bKUC"
      }
    },
    {
      "cell_type": "markdown",
      "source": [
        "**Task8**:\n",
        "\n",
        "Explain, in detail, exactly why polars is faster than pandas. Is anything lost by making these changes? Is polars strictly better than pandas? If so, why would pandas exist in the first place?\n",
        "\n",
        "Remember, this is supposed to be fun. If it's not, stop and doing something else."
      ],
      "metadata": {
        "id": "zLdCWzvAdYGA"
      }
    }
  ]
}
