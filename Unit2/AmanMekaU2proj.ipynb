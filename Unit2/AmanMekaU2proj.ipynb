{
  "nbformat": 4,
  "nbformat_minor": 0,
  "metadata": {
    "colab": {
      "provenance": [],
      "include_colab_link": true
    },
    "kernelspec": {
      "name": "python3",
      "display_name": "Python 3"
    },
    "language_info": {
      "name": "python"
    }
  },
  "cells": [
    {
      "cell_type": "markdown",
      "metadata": {
        "id": "view-in-github",
        "colab_type": "text"
      },
      "source": [
        "<a href=\"https://colab.research.google.com/github/amanmeka/DataScience/blob/main/Unit2/AmanMekaU2proj.ipynb\" target=\"_parent\"><img src=\"https://colab.research.google.com/assets/colab-badge.svg\" alt=\"Open In Colab\"/></a>"
      ]
    },
    {
      "cell_type": "markdown",
      "source": [
        "# **UNIT 2 PROJECT:**"
      ],
      "metadata": {
        "id": "g29oogrGbXkS"
      }
    },
    {
      "cell_type": "markdown",
      "source": [
        "First we need to pip install preliz and importing numpy, pymc, arviz, and pandas:"
      ],
      "metadata": {
        "id": "OZ1L4T2_EiBR"
      }
    },
    {
      "cell_type": "code",
      "source": [
        "# Installing packages\n",
        "!pip install preliz\n",
        "import preliz as pz\n",
        "\n",
        "import numpy as np\n",
        "import pymc as pm\n",
        "import arviz as az\n",
        "import pandas as pd"
      ],
      "metadata": {
        "colab": {
          "base_uri": "https://localhost:8080/"
        },
        "id": "78NveKuXyWcB",
        "outputId": "f0c7759a-5021-448a-bd48-b8387eaa0c38",
        "collapsed": true
      },
      "execution_count": null,
      "outputs": [
        {
          "output_type": "stream",
          "name": "stdout",
          "text": [
            "Collecting preliz\n",
            "  Downloading preliz-0.21.0-py3-none-any.whl.metadata (6.2 kB)\n",
            "Collecting arviz_stats>=0.6.0 (from preliz)\n",
            "  Downloading arviz_stats-0.6.0-py3-none-any.whl.metadata (2.9 kB)\n",
            "Requirement already satisfied: matplotlib>=3.8 in /usr/local/lib/python3.12/dist-packages (from preliz) (3.10.0)\n",
            "Requirement already satisfied: numba>=0.59 in /usr/local/lib/python3.12/dist-packages (from preliz) (0.60.0)\n",
            "Requirement already satisfied: numpy>=2.0 in /usr/local/lib/python3.12/dist-packages (from preliz) (2.0.2)\n",
            "Requirement already satisfied: scipy>=1.12 in /usr/local/lib/python3.12/dist-packages (from preliz) (1.16.1)\n",
            "Requirement already satisfied: contourpy>=1.0.1 in /usr/local/lib/python3.12/dist-packages (from matplotlib>=3.8->preliz) (1.3.3)\n",
            "Requirement already satisfied: cycler>=0.10 in /usr/local/lib/python3.12/dist-packages (from matplotlib>=3.8->preliz) (0.12.1)\n",
            "Requirement already satisfied: fonttools>=4.22.0 in /usr/local/lib/python3.12/dist-packages (from matplotlib>=3.8->preliz) (4.59.2)\n",
            "Requirement already satisfied: kiwisolver>=1.3.1 in /usr/local/lib/python3.12/dist-packages (from matplotlib>=3.8->preliz) (1.4.9)\n",
            "Requirement already satisfied: packaging>=20.0 in /usr/local/lib/python3.12/dist-packages (from matplotlib>=3.8->preliz) (25.0)\n",
            "Requirement already satisfied: pillow>=8 in /usr/local/lib/python3.12/dist-packages (from matplotlib>=3.8->preliz) (11.3.0)\n",
            "Requirement already satisfied: pyparsing>=2.3.1 in /usr/local/lib/python3.12/dist-packages (from matplotlib>=3.8->preliz) (3.2.3)\n",
            "Requirement already satisfied: python-dateutil>=2.7 in /usr/local/lib/python3.12/dist-packages (from matplotlib>=3.8->preliz) (2.9.0.post0)\n",
            "Requirement already satisfied: llvmlite<0.44,>=0.43.0dev0 in /usr/local/lib/python3.12/dist-packages (from numba>=0.59->preliz) (0.43.0)\n",
            "Requirement already satisfied: six>=1.5 in /usr/local/lib/python3.12/dist-packages (from python-dateutil>=2.7->matplotlib>=3.8->preliz) (1.17.0)\n",
            "Downloading preliz-0.21.0-py3-none-any.whl (519 kB)\n",
            "\u001b[2K   \u001b[90m━━━━━━━━━━━━━━━━━━━━━━━━━━━━━━━━━━━━━━━━\u001b[0m \u001b[32m519.6/519.6 kB\u001b[0m \u001b[31m4.9 MB/s\u001b[0m eta \u001b[36m0:00:00\u001b[0m\n",
            "\u001b[?25hDownloading arviz_stats-0.6.0-py3-none-any.whl (108 kB)\n",
            "\u001b[2K   \u001b[90m━━━━━━━━━━━━━━━━━━━━━━━━━━━━━━━━━━━━━━━━\u001b[0m \u001b[32m108.8/108.8 kB\u001b[0m \u001b[31m8.4 MB/s\u001b[0m eta \u001b[36m0:00:00\u001b[0m\n",
            "\u001b[?25hInstalling collected packages: arviz_stats, preliz\n",
            "Successfully installed arviz_stats-0.6.0 preliz-0.21.0\n"
          ]
        }
      ]
    },
    {
      "cell_type": "markdown",
      "source": [
        "# **Intro**\n",
        "\n",
        "In this project I create a prediction model that is capable of predicting/determining the chance of GM Hikaru winning a chess game.\n",
        "\n",
        "I chose this data mainly because I enjoy playing chess in my free time and I was interested in seeing how often the best players win their chess games. I also chose this dataset because I knew that I would be able to easily find a dataset with enough data."
      ],
      "metadata": {
        "id": "pBWCqPvvE96p"
      }
    },
    {
      "cell_type": "markdown",
      "source": [
        "# **Prior**\n",
        "Our prior was part of the dataset but I seperated the main dataset into two parts: one was only of games from his first year (2014) and the other was from 2015 to present. I was able to acquire the dataset by using a website that scrubbed games from a popular chess game website and formatted it in csv. Although I have a prior dataset, not all of the games are worth putting through the model. In other words, there might be some games where he played with someone that had a much lower Elo than his, meaning that they were not as skilled as him. To be able to get a better prior we should restrict our data set to opponents that have an Elo higher than 2500. This makes our data set more reliable."
      ],
      "metadata": {
        "id": "Eu5_4vhA1p5d"
      }
    },
    {
      "cell_type": "code",
      "source": [
        "# read in the hikaru prior games dataset\n",
        "hikarupriorgames = 'https://raw.githubusercontent.com/amanmeka/DataScience/refs/heads/main/HikaruBlitzPrior.csv'\n",
        "\n",
        "hikaruprior = pd.read_csv(hikarupriorgames)\n",
        "hikaruprior = hikaruprior.query(\"opponentRating > 2500\")"
      ],
      "metadata": {
        "id": "NjNeQFbSGKzQ"
      },
      "execution_count": null,
      "outputs": []
    },
    {
      "cell_type": "markdown",
      "source": [
        "Then we can split the data into either wins or not wins. Not wins is either a draw or a loss. We can do this by querying the result column and counting the number of wins and not wins respectively.\n",
        "\n",
        "Note: In chess there are multiple different ways that a game can end, therefore there will be a lot of queries that lead to one of 3 outcomes: win, loss, draw. In this case we are considering draws and losses under one category, not wins."
      ],
      "metadata": {
        "id": "Kiyr7ZBsG2jA"
      }
    },
    {
      "cell_type": "code",
      "source": [
        "winprior = hikaruprior.query('result == \"win\"').shape[0]\n",
        "lossprior = hikaruprior.query('result == \"resigned\"').shape[0]\n",
        "lossprior += hikaruprior.query('result == \"checkmated\"').shape[0]\n",
        "lossprior += hikaruprior.query('result == \"timeout\"').shape[0]\n",
        "lossprior += hikaruprior.query('result == \"abandoned\"').shape[0]\n",
        "lossprior += hikaruprior.query('result == \"50move\"').shape[0]\n",
        "lossprior += hikaruprior.query('result == \"repetition\"').shape[0]\n",
        "lossprior += hikaruprior.query('result == \"insufficient\"').shape[0]\n",
        "lossprior += hikaruprior.query('result == \"timevsinsufficient\"').shape[0]\n",
        "lossprior += hikaruprior.query('result == \"stalemate\"').shape[0]\n",
        "lossprior += hikaruprior.query('result == \"agreed\"').shape[0]\n",
        "totalprior = winprior + lossprior"
      ],
      "metadata": {
        "id": "qBD1sAwrHGQO"
      },
      "execution_count": null,
      "outputs": []
    },
    {
      "cell_type": "code",
      "source": [
        "winprior"
      ],
      "metadata": {
        "colab": {
          "base_uri": "https://localhost:8080/"
        },
        "id": "TvTOOChgHcnv",
        "outputId": "006b545e-3582-4c1a-f81a-25b3844445b6"
      },
      "execution_count": null,
      "outputs": [
        {
          "output_type": "execute_result",
          "data": {
            "text/plain": [
              "32"
            ]
          },
          "metadata": {},
          "execution_count": 56
        }
      ]
    },
    {
      "cell_type": "code",
      "source": [
        "lossprior"
      ],
      "metadata": {
        "colab": {
          "base_uri": "https://localhost:8080/"
        },
        "id": "F9M9caYkHgAG",
        "outputId": "477449ea-2b18-439f-dfc5-1bef77253ad8"
      },
      "execution_count": null,
      "outputs": [
        {
          "output_type": "execute_result",
          "data": {
            "text/plain": [
              "10"
            ]
          },
          "metadata": {},
          "execution_count": 57
        }
      ]
    },
    {
      "cell_type": "code",
      "source": [
        "round((winprior/totalprior)*100,1)"
      ],
      "metadata": {
        "colab": {
          "base_uri": "https://localhost:8080/"
        },
        "id": "2hAPse9cN4qA",
        "outputId": "b73b76d3-308a-4e3a-ecc3-45baacd62a59"
      },
      "execution_count": null,
      "outputs": [
        {
          "output_type": "execute_result",
          "data": {
            "text/plain": [
              "76.2"
            ]
          },
          "metadata": {},
          "execution_count": 66
        }
      ]
    },
    {
      "cell_type": "markdown",
      "source": [
        "By calculating the mean of the prior, we get that Hikaru has a 76.2% predicted chance of winning his games (according to the prior). By looking at these values we can use them to graph a beta distribution to represent our prior. This is meant to show the probability of a success. All we have to do is assign the values of alpha and beta in the beta function as winprior and lossprior respectively.\n",
        "\n",
        "Note: winprior is 32 and lossprior is 10 in this case."
      ],
      "metadata": {
        "id": "8xeotOL5Hmgi"
      }
    },
    {
      "cell_type": "code",
      "source": [
        "pz.Beta(alpha=winprior,beta=lossprior).plot_pdf()"
      ],
      "metadata": {
        "colab": {
          "base_uri": "https://localhost:8080/",
          "height": 448
        },
        "id": "NxyY1ofHHrID",
        "outputId": "3deb79cd-561d-4ac2-af1b-9e68b41b2fdc"
      },
      "execution_count": null,
      "outputs": [
        {
          "output_type": "execute_result",
          "data": {
            "text/plain": [
              "<Axes: >"
            ]
          },
          "metadata": {},
          "execution_count": 59
        },
        {
          "output_type": "display_data",
          "data": {
            "text/plain": [
              "<Figure size 640x480 with 1 Axes>"
            ],
            "image/png": "[encoded data removed]"
          },
          "metadata": {}
        }
      ]
    },
    {
      "cell_type": "markdown",
      "source": [
        "Looking at the graph, we can see that the peak is pretty similar to the expected percentage (76.2%)."
      ],
      "metadata": {
        "id": "NmbZ8QPOnEYp"
      }
    },
    {
      "cell_type": "markdown",
      "source": [
        "# **Likelihood Distribution**\n",
        "\n",
        "In our prior data analysis, we estimated a 76.2% chance of Hikaru winning a game. This was based off of the game data that we were given for Hikaru in the year 2014.\n",
        "\n",
        "Now that we have our prior analysis done, we can import our second dataset which is the dataset that includes the data for Hikaru's games from 2015 to the present.\n",
        "\n",
        "We can start by first assigning the raw data link which we get from the github repo and then reading that link into pandas. Then similarly to what we did with the prior data we need to limit the opponent's Elo to above 2500 because any Elo that is lower can be considered a significant disadvantage when they play against Hikaru (meaning that they will likely lose and bias the data)."
      ],
      "metadata": {
        "id": "BHswDj9HIKIL"
      }
    },
    {
      "cell_type": "code",
      "source": [
        "# read in the hikaru games dataset\n",
        "hikarugames = 'https://github.com/amanmeka/DataScience/raw/refs/heads/main/HikaruBlitzData.csv'\n",
        "\n",
        "hikaru = pd.read_csv(hikarugames)\n",
        "hikaru = hikaru.query(\"opponentRating > 2500\")"
      ],
      "metadata": {
        "id": "ZomBva_4yQ6N"
      },
      "execution_count": null,
      "outputs": []
    },
    {
      "cell_type": "code",
      "source": [
        "hikaru"
      ],
      "metadata": {
        "colab": {
          "base_uri": "https://localhost:8080/",
          "height": 843
        },
        "id": "mAIvGB7l1uRL",
        "outputId": "ce01a3e8-ca72-4ad9-fc2f-42c813274477"
      },
      "execution_count": null,
      "outputs": [
        {
          "output_type": "execute_result",
          "data": {
            "text/plain": [
              "       userAccuracy  opponentAccuracy  \\\n",
              "0             78.45             82.39   \n",
              "1             82.13             80.64   \n",
              "2             86.34             81.01   \n",
              "3             86.90             82.48   \n",
              "4             86.96             71.80   \n",
              "...             ...               ...   \n",
              "42387         93.17             82.98   \n",
              "42388         93.39             89.79   \n",
              "42389         96.72             92.53   \n",
              "42390         97.02             96.84   \n",
              "42391           NaN               NaN   \n",
              "\n",
              "                                                 gameUrl        gameId  \\\n",
              "0      https://www.chess.com/game/live/142489496438?r...  142489496438   \n",
              "1      https://www.chess.com/game/live/142460419390?r...  142460419390   \n",
              "2      https://www.chess.com/game/live/142460043512?r...  142460043512   \n",
              "3      https://www.chess.com/game/live/142490093186?r...  142490093186   \n",
              "4      https://www.chess.com/game/live/142460219090?r...  142460219090   \n",
              "...                                                  ...           ...   \n",
              "42387  https://www.chess.com/game/live/1018376703?ref...    1018376703   \n",
              "42388  https://www.chess.com/game/live/1018453803?ref...    1018453803   \n",
              "42389  https://www.chess.com/game/live/1018487186?ref...    1018487186   \n",
              "42390  https://www.chess.com/game/live/1018413981?ref...    1018413981   \n",
              "42391  https://www.chess.com/game/live/1018445191?ref...    1018445191   \n",
              "\n",
              "      timeClass                                                fen userColor  \\\n",
              "0         blitz               8/8/7R/4k1P1/7P/5PK1/8/r7 w - - 7 86     black   \n",
              "1         blitz  1r5k/4b3/p2p4/PrpPp3/2R2qPp/1PNR1P1P/6K1/4Q3 b...     white   \n",
              "2         blitz     8/8/2k3p1/2P5/p4PpP/P5P1/2Kpp3/3Rr3 w - - 0 52     black   \n",
              "3         blitz  3r3r/q4nkp/5p1b/p1p1pPp1/P1NpP1Q1/1P1P2P1/2PB2...     white   \n",
              "4         blitz  r1b1k2r/pp2ppbp/2n3p1/1N6/4QB2/q3P3/P1P1NPPP/1...     white   \n",
              "...         ...                                                ...       ...   \n",
              "42387     blitz      3r4/1q3pkp/1Pp3p1/4Q3/8/P3P3/5PPP/1R4K1 b - -     white   \n",
              "42388     blitz  r1b3k1/pp2pp1p/6p1/3rq3/2B5/2Q1P2P/P1P2PP1/R4R...     white   \n",
              "42389     blitz      3b4/1r3k2/p5pp/1p6/6n1/1P2B3/P1B1NPK1/8 w - -     black   \n",
              "42390     blitz       8/8/2b3p1/p2k1pP1/p1p2P2/2P5/1P3K2/5N2 w - -     black   \n",
              "42391     blitz  r2r4/1p2ppkp/p4np1/4N3/2P1b3/4P2P/PP2B1P1/R2R2...     white   \n",
              "\n",
              "       userRating       opponent  opponentRating  \\\n",
              "0            3395  Karthusgaming            2821   \n",
              "1            3390     AurenChess            2794   \n",
              "2            3383     AurenChess            2801   \n",
              "3            3400  Karthusgaming            2816   \n",
              "4            3386     AurenChess            2798   \n",
              "...           ...            ...             ...   \n",
              "42387        2809    gmwesley_so            2589   \n",
              "42388        2780    gmwesley_so            2651   \n",
              "42389        2764    gmwesley_so            2683   \n",
              "42390        2812    gmwesley_so            2576   \n",
              "42391        2791    gmwesley_so            2627   \n",
              "\n",
              "                                      opponentUrl   result     wonBy  \\\n",
              "0      https://www.chess.com/member/Karthusgaming      win   timeout   \n",
              "1         https://www.chess.com/member/AurenChess      win  resigned   \n",
              "2         https://www.chess.com/member/AurenChess      win  resigned   \n",
              "3      https://www.chess.com/member/Karthusgaming      win  resigned   \n",
              "4         https://www.chess.com/member/AurenChess      win  resigned   \n",
              "...                                           ...      ...       ...   \n",
              "42387    https://www.chess.com/member/gmwesley_so      win  resigned   \n",
              "42388    https://www.chess.com/member/gmwesley_so  timeout       NaN   \n",
              "42389    https://www.chess.com/member/gmwesley_so      win  resigned   \n",
              "42390    https://www.chess.com/member/gmwesley_so   agreed       NaN   \n",
              "42391    https://www.chess.com/member/gmwesley_so   agreed       NaN   \n",
              "\n",
              "             date                                         openingUrl  \\\n",
              "0      2025.08.29  https://www.chess.com/openings/Modern-Defense-...   \n",
              "1      2025.08.29  https://www.chess.com/openings/Modern-Defense-...   \n",
              "2      2025.08.29  https://www.chess.com/openings/Kings-Indian-At...   \n",
              "3      2025.08.29  https://www.chess.com/openings/Kings-Indian-At...   \n",
              "4      2025.08.29  https://www.chess.com/openings/Trompowsky-Atta...   \n",
              "...           ...                                                ...   \n",
              "42387  2015.01.03  https://www.chess.com/openings/London-System-3...   \n",
              "42388  2015.01.03  https://www.chess.com/openings/Queens-Pawn-Ope...   \n",
              "42389  2015.01.03  https://www.chess.com/openings/Ruy-Lopez-Openi...   \n",
              "42390  2015.01.03  https://www.chess.com/openings/Ruy-Lopez-Openi...   \n",
              "42391  2015.01.03  https://www.chess.com/openings/Queens-Pawn-Ope...   \n",
              "\n",
              "                                                 opening startTime   endTime  \\\n",
              "0        Modern Defense with 1 e4 2.d4 Bg7 3.Nf3 d6 4.h3  18:11:19  18:16:56   \n",
              "1           Modern Defense with 1 e4...3.Nf3 d6 4.Bc4 a6   1:30:57   1:35:53   \n",
              "2      Kings Indian Attack Double Fianchetto Variatio...   1:11:22   1:16:24   \n",
              "3      Kings Indian Attack Yugoslav Variation...5.b3 ...  18:28:42  18:31:34   \n",
              "4             Trompowsky Attack...3.Bf4 d5 4.e3 c5 5.Bd3   1:20:28   1:21:45   \n",
              "...                                                  ...       ...       ...   \n",
              "42387                      London System 3...c5 4.e3 Nc6  17:14:55  17:20:10   \n",
              "42388  Queens Pawn Opening Chigorin Variation...4.Bf4...  18:39:30  18:44:15   \n",
              "42389  Ruy Lopez Opening Cozio Defense...7.d4 exd4 8....  19:15:54  19:22:25   \n",
              "42390  Ruy Lopez Opening Berlin lHermet Berlin Wall D...  17:56:00  18:06:33   \n",
              "42391  Queens Pawn Opening Chigorin Variation...3.Nf3...  18:30:16  18:32:12   \n",
              "\n",
              "       outcome moveCount  \n",
              "0         85.0   timeout  \n",
              "1         44.0  resigned  \n",
              "2         51.0  resigned  \n",
              "3         35.0  resigned  \n",
              "4         13.0  resigned  \n",
              "...        ...       ...  \n",
              "42387     31.0  resigned  \n",
              "42388     17.0   timeout  \n",
              "42389     50.0  resigned  \n",
              "42390     73.0    agreed  \n",
              "42391     19.0    agreed  \n",
              "\n",
              "[38004 rows x 20 columns]"
            ],
            "text/html": [
              "\n",
              "  <div id=\"df-4c0b3572-ac66-42a8-bd93-de3dca528c8b\" class=\"colab-df-container\">\n",
              "    <div>\n",
              "<style scoped>\n",
              "    .dataframe tbody tr th:only-of-type {\n",
              "        vertical-align: middle;\n",
              "    }\n",
              "\n",
              "    .dataframe tbody tr th {\n",
              "        vertical-align: top;\n",
              "    }\n",
              "\n",
              "    .dataframe thead th {\n",
              "        text-align: right;\n",
              "    }\n",
              "</style>\n",
              "<table border=\"1\" class=\"dataframe\">\n",
              "  <thead>\n",
              "    <tr style=\"text-align: right;\">\n",
              "      <th></th>\n",
              "      <th>userAccuracy</th>\n",
              "      <th>opponentAccuracy</th>\n",
              "      <th>gameUrl</th>\n",
              "      <th>gameId</th>\n",
              "      <th>timeClass</th>\n",
              "      <th>fen</th>\n",
              "      <th>userColor</th>\n",
              "      <th>userRating</th>\n",
              "      <th>opponent</th>\n",
              "      <th>opponentRating</th>\n",
              "      <th>opponentUrl</th>\n",
              "      <th>result</th>\n",
              "      <th>wonBy</th>\n",
              "      <th>date</th>\n",
              "      <th>openingUrl</th>\n",
              "      <th>opening</th>\n",
              "      <th>startTime</th>\n",
              "      <th>endTime</th>\n",
              "      <th>outcome</th>\n",
              "      <th>moveCount</th>\n",
              "    </tr>\n",
              "  </thead>\n",
              "  <tbody>\n",
              "    <tr>\n",
              "      <th>0</th>\n",
              "      <td>78.45</td>\n",
              "      <td>82.39</td>\n",
              "      <td>https://www.chess.com/game/live/142489496438?r...</td>\n",
              "      <td>142489496438</td>\n",
              "      <td>blitz</td>\n",
              "      <td>8/8/7R/4k1P1/7P/5PK1/8/r7 w - - 7 86</td>\n",
              "      <td>black</td>\n",
              "      <td>3395</td>\n",
              "      <td>Karthusgaming</td>\n",
              "      <td>2821</td>\n",
              "      <td>https://www.chess.com/member/Karthusgaming</td>\n",
              "      <td>win</td>\n",
              "      <td>timeout</td>\n",
              "      <td>2025.08.29</td>\n",
              "      <td>https://www.chess.com/openings/Modern-Defense-...</td>\n",
              "      <td>Modern Defense with 1 e4 2.d4 Bg7 3.Nf3 d6 4.h3</td>\n",
              "      <td>18:11:19</td>\n",
              "      <td>18:16:56</td>\n",
              "      <td>85.0</td>\n",
              "      <td>timeout</td>\n",
              "    </tr>\n",
              "    <tr>\n",
              "      <th>1</th>\n",
              "      <td>82.13</td>\n",
              "      <td>80.64</td>\n",
              "      <td>https://www.chess.com/game/live/142460419390?r...</td>\n",
              "      <td>142460419390</td>\n",
              "      <td>blitz</td>\n",
              "      <td>1r5k/4b3/p2p4/PrpPp3/2R2qPp/1PNR1P1P/6K1/4Q3 b...</td>\n",
              "      <td>white</td>\n",
              "      <td>3390</td>\n",
              "      <td>AurenChess</td>\n",
              "      <td>2794</td>\n",
              "      <td>https://www.chess.com/member/AurenChess</td>\n",
              "      <td>win</td>\n",
              "      <td>resigned</td>\n",
              "      <td>2025.08.29</td>\n",
              "      <td>https://www.chess.com/openings/Modern-Defense-...</td>\n",
              "      <td>Modern Defense with 1 e4...3.Nf3 d6 4.Bc4 a6</td>\n",
              "      <td>1:30:57</td>\n",
              "      <td>1:35:53</td>\n",
              "      <td>44.0</td>\n",
              "      <td>resigned</td>\n",
              "    </tr>\n",
              "    <tr>\n",
              "      <th>2</th>\n",
              "      <td>86.34</td>\n",
              "      <td>81.01</td>\n",
              "      <td>https://www.chess.com/game/live/142460043512?r...</td>\n",
              "      <td>142460043512</td>\n",
              "      <td>blitz</td>\n",
              "      <td>8/8/2k3p1/2P5/p4PpP/P5P1/2Kpp3/3Rr3 w - - 0 52</td>\n",
              "      <td>black</td>\n",
              "      <td>3383</td>\n",
              "      <td>AurenChess</td>\n",
              "      <td>2801</td>\n",
              "      <td>https://www.chess.com/member/AurenChess</td>\n",
              "      <td>win</td>\n",
              "      <td>resigned</td>\n",
              "      <td>2025.08.29</td>\n",
              "      <td>https://www.chess.com/openings/Kings-Indian-At...</td>\n",
              "      <td>Kings Indian Attack Double Fianchetto Variatio...</td>\n",
              "      <td>1:11:22</td>\n",
              "      <td>1:16:24</td>\n",
              "      <td>51.0</td>\n",
              "      <td>resigned</td>\n",
              "    </tr>\n",
              "    <tr>\n",
              "      <th>3</th>\n",
              "      <td>86.90</td>\n",
              "      <td>82.48</td>\n",
              "      <td>https://www.chess.com/game/live/142490093186?r...</td>\n",
              "      <td>142490093186</td>\n",
              "      <td>blitz</td>\n",
              "      <td>3r3r/q4nkp/5p1b/p1p1pPp1/P1NpP1Q1/1P1P2P1/2PB2...</td>\n",
              "      <td>white</td>\n",
              "      <td>3400</td>\n",
              "      <td>Karthusgaming</td>\n",
              "      <td>2816</td>\n",
              "      <td>https://www.chess.com/member/Karthusgaming</td>\n",
              "      <td>win</td>\n",
              "      <td>resigned</td>\n",
              "      <td>2025.08.29</td>\n",
              "      <td>https://www.chess.com/openings/Kings-Indian-At...</td>\n",
              "      <td>Kings Indian Attack Yugoslav Variation...5.b3 ...</td>\n",
              "      <td>18:28:42</td>\n",
              "      <td>18:31:34</td>\n",
              "      <td>35.0</td>\n",
              "      <td>resigned</td>\n",
              "    </tr>\n",
              "    <tr>\n",
              "      <th>4</th>\n",
              "      <td>86.96</td>\n",
              "      <td>71.80</td>\n",
              "      <td>https://www.chess.com/game/live/142460219090?r...</td>\n",
              "      <td>142460219090</td>\n",
              "      <td>blitz</td>\n",
              "      <td>r1b1k2r/pp2ppbp/2n3p1/1N6/4QB2/q3P3/P1P1NPPP/1...</td>\n",
              "      <td>white</td>\n",
              "      <td>3386</td>\n",
              "      <td>AurenChess</td>\n",
              "      <td>2798</td>\n",
              "      <td>https://www.chess.com/member/AurenChess</td>\n",
              "      <td>win</td>\n",
              "      <td>resigned</td>\n",
              "      <td>2025.08.29</td>\n",
              "      <td>https://www.chess.com/openings/Trompowsky-Atta...</td>\n",
              "      <td>Trompowsky Attack...3.Bf4 d5 4.e3 c5 5.Bd3</td>\n",
              "      <td>1:20:28</td>\n",
              "      <td>1:21:45</td>\n",
              "      <td>13.0</td>\n",
              "      <td>resigned</td>\n",
              "    </tr>\n",
              "    <tr>\n",
              "      <th>...</th>\n",
              "      <td>...</td>\n",
              "      <td>...</td>\n",
              "      <td>...</td>\n",
              "      <td>...</td>\n",
              "      <td>...</td>\n",
              "      <td>...</td>\n",
              "      <td>...</td>\n",
              "      <td>...</td>\n",
              "      <td>...</td>\n",
              "      <td>...</td>\n",
              "      <td>...</td>\n",
              "      <td>...</td>\n",
              "      <td>...</td>\n",
              "      <td>...</td>\n",
              "      <td>...</td>\n",
              "      <td>...</td>\n",
              "      <td>...</td>\n",
              "      <td>...</td>\n",
              "      <td>...</td>\n",
              "      <td>...</td>\n",
              "    </tr>\n",
              "    <tr>\n",
              "      <th>42387</th>\n",
              "      <td>93.17</td>\n",
              "      <td>82.98</td>\n",
              "      <td>https://www.chess.com/game/live/1018376703?ref...</td>\n",
              "      <td>1018376703</td>\n",
              "      <td>blitz</td>\n",
              "      <td>3r4/1q3pkp/1Pp3p1/4Q3/8/P3P3/5PPP/1R4K1 b - -</td>\n",
              "      <td>white</td>\n",
              "      <td>2809</td>\n",
              "      <td>gmwesley_so</td>\n",
              "      <td>2589</td>\n",
              "      <td>https://www.chess.com/member/gmwesley_so</td>\n",
              "      <td>win</td>\n",
              "      <td>resigned</td>\n",
              "      <td>2015.01.03</td>\n",
              "      <td>https://www.chess.com/openings/London-System-3...</td>\n",
              "      <td>London System 3...c5 4.e3 Nc6</td>\n",
              "      <td>17:14:55</td>\n",
              "      <td>17:20:10</td>\n",
              "      <td>31.0</td>\n",
              "      <td>resigned</td>\n",
              "    </tr>\n",
              "    <tr>\n",
              "      <th>42388</th>\n",
              "      <td>93.39</td>\n",
              "      <td>89.79</td>\n",
              "      <td>https://www.chess.com/game/live/1018453803?ref...</td>\n",
              "      <td>1018453803</td>\n",
              "      <td>blitz</td>\n",
              "      <td>r1b3k1/pp2pp1p/6p1/3rq3/2B5/2Q1P2P/P1P2PP1/R4R...</td>\n",
              "      <td>white</td>\n",
              "      <td>2780</td>\n",
              "      <td>gmwesley_so</td>\n",
              "      <td>2651</td>\n",
              "      <td>https://www.chess.com/member/gmwesley_so</td>\n",
              "      <td>timeout</td>\n",
              "      <td>NaN</td>\n",
              "      <td>2015.01.03</td>\n",
              "      <td>https://www.chess.com/openings/Queens-Pawn-Ope...</td>\n",
              "      <td>Queens Pawn Opening Chigorin Variation...4.Bf4...</td>\n",
              "      <td>18:39:30</td>\n",
              "      <td>18:44:15</td>\n",
              "      <td>17.0</td>\n",
              "      <td>timeout</td>\n",
              "    </tr>\n",
              "    <tr>\n",
              "      <th>42389</th>\n",
              "      <td>96.72</td>\n",
              "      <td>92.53</td>\n",
              "      <td>https://www.chess.com/game/live/1018487186?ref...</td>\n",
              "      <td>1018487186</td>\n",
              "      <td>blitz</td>\n",
              "      <td>3b4/1r3k2/p5pp/1p6/6n1/1P2B3/P1B1NPK1/8 w - -</td>\n",
              "      <td>black</td>\n",
              "      <td>2764</td>\n",
              "      <td>gmwesley_so</td>\n",
              "      <td>2683</td>\n",
              "      <td>https://www.chess.com/member/gmwesley_so</td>\n",
              "      <td>win</td>\n",
              "      <td>resigned</td>\n",
              "      <td>2015.01.03</td>\n",
              "      <td>https://www.chess.com/openings/Ruy-Lopez-Openi...</td>\n",
              "      <td>Ruy Lopez Opening Cozio Defense...7.d4 exd4 8....</td>\n",
              "      <td>19:15:54</td>\n",
              "      <td>19:22:25</td>\n",
              "      <td>50.0</td>\n",
              "      <td>resigned</td>\n",
              "    </tr>\n",
              "    <tr>\n",
              "      <th>42390</th>\n",
              "      <td>97.02</td>\n",
              "      <td>96.84</td>\n",
              "      <td>https://www.chess.com/game/live/1018413981?ref...</td>\n",
              "      <td>1018413981</td>\n",
              "      <td>blitz</td>\n",
              "      <td>8/8/2b3p1/p2k1pP1/p1p2P2/2P5/1P3K2/5N2 w - -</td>\n",
              "      <td>black</td>\n",
              "      <td>2812</td>\n",
              "      <td>gmwesley_so</td>\n",
              "      <td>2576</td>\n",
              "      <td>https://www.chess.com/member/gmwesley_so</td>\n",
              "      <td>agreed</td>\n",
              "      <td>NaN</td>\n",
              "      <td>2015.01.03</td>\n",
              "      <td>https://www.chess.com/openings/Ruy-Lopez-Openi...</td>\n",
              "      <td>Ruy Lopez Opening Berlin lHermet Berlin Wall D...</td>\n",
              "      <td>17:56:00</td>\n",
              "      <td>18:06:33</td>\n",
              "      <td>73.0</td>\n",
              "      <td>agreed</td>\n",
              "    </tr>\n",
              "    <tr>\n",
              "      <th>42391</th>\n",
              "      <td>NaN</td>\n",
              "      <td>NaN</td>\n",
              "      <td>https://www.chess.com/game/live/1018445191?ref...</td>\n",
              "      <td>1018445191</td>\n",
              "      <td>blitz</td>\n",
              "      <td>r2r4/1p2ppkp/p4np1/4N3/2P1b3/4P2P/PP2B1P1/R2R2...</td>\n",
              "      <td>white</td>\n",
              "      <td>2791</td>\n",
              "      <td>gmwesley_so</td>\n",
              "      <td>2627</td>\n",
              "      <td>https://www.chess.com/member/gmwesley_so</td>\n",
              "      <td>agreed</td>\n",
              "      <td>NaN</td>\n",
              "      <td>2015.01.03</td>\n",
              "      <td>https://www.chess.com/openings/Queens-Pawn-Ope...</td>\n",
              "      <td>Queens Pawn Opening Chigorin Variation...3.Nf3...</td>\n",
              "      <td>18:30:16</td>\n",
              "      <td>18:32:12</td>\n",
              "      <td>19.0</td>\n",
              "      <td>agreed</td>\n",
              "    </tr>\n",
              "  </tbody>\n",
              "</table>\n",
              "<p>38004 rows × 20 columns</p>\n",
              "</div>\n",
              "    <div class=\"colab-df-buttons\">\n",
              "\n",
              "  <div class=\"colab-df-container\">\n",
              "    <button class=\"colab-df-convert\" onclick=\"convertToInteractive('df-4c0b3572-ac66-42a8-bd93-de3dca528c8b')\"\n",
              "            title=\"Convert this dataframe to an interactive table.\"\n",
              "            style=\"display:none;\">\n",
              "\n",
              "  <svg xmlns=\"http://www.w3.org/2000/svg\" height=\"24px\" viewBox=\"0 -960 960 960\">\n",
              "    <path d=\"M120-120v-720h720v720H120Zm60-500h600v-160H180v160Zm220 220h160v-160H400v160Zm0 220h160v-160H400v160ZM180-400h160v-160H180v160Zm440 0h160v-160H620v160ZM180-180h160v-160H180v160Zm440 0h160v-160H620v160Z\"/>\n",
              "  </svg>\n",
              "    </button>\n",
              "\n",
              "  <style>\n",
              "    .colab-df-container {\n",
              "      display:flex;\n",
              "      gap: 12px;\n",
              "    }\n",
              "\n",
              "    .colab-df-convert {\n",
              "      background-color: #E8F0FE;\n",
              "      border: none;\n",
              "      border-radius: 50%;\n",
              "      cursor: pointer;\n",
              "      display: none;\n",
              "      fill: #1967D2;\n",
              "      height: 32px;\n",
              "      padding: 0 0 0 0;\n",
              "      width: 32px;\n",
              "    }\n",
              "\n",
              "    .colab-df-convert:hover {\n",
              "      background-color: #E2EBFA;\n",
              "      box-shadow: 0px 1px 2px rgba(60, 64, 67, 0.3), 0px 1px 3px 1px rgba(60, 64, 67, 0.15);\n",
              "      fill: #174EA6;\n",
              "    }\n",
              "\n",
              "    .colab-df-buttons div {\n",
              "      margin-bottom: 4px;\n",
              "    }\n",
              "\n",
              "    [theme=dark] .colab-df-convert {\n",
              "      background-color: #3B4455;\n",
              "      fill: #D2E3FC;\n",
              "    }\n",
              "\n",
              "    [theme=dark] .colab-df-convert:hover {\n",
              "      background-color: #434B5C;\n",
              "      box-shadow: 0px 1px 3px 1px rgba(0, 0, 0, 0.15);\n",
              "      filter: drop-shadow(0px 1px 2px rgba(0, 0, 0, 0.3));\n",
              "      fill: #FFFFFF;\n",
              "    }\n",
              "  </style>\n",
              "\n",
              "    <script>\n",
              "      const buttonEl =\n",
              "        document.querySelector('#df-4c0b3572-ac66-42a8-bd93-de3dca528c8b button.colab-df-convert');\n",
              "      buttonEl.style.display =\n",
              "        google.colab.kernel.accessAllowed ? 'block' : 'none';\n",
              "\n",
              "      async function convertToInteractive(key) {\n",
              "        const element = document.querySelector('#df-4c0b3572-ac66-42a8-bd93-de3dca528c8b');\n",
              "        const dataTable =\n",
              "          await google.colab.kernel.invokeFunction('convertToInteractive',\n",
              "                                                    [key], {});\n",
              "        if (!dataTable) return;\n",
              "\n",
              "        const docLinkHtml = 'Like what you see? Visit the ' +\n",
              "          '<a target=\"_blank\" href=https://colab.research.google.com/notebooks/data_table.ipynb>data table notebook</a>'\n",
              "          + ' to learn more about interactive tables.';\n",
              "        element.innerHTML = '';\n",
              "        dataTable['output_type'] = 'display_data';\n",
              "        await google.colab.output.renderOutput(dataTable, element);\n",
              "        const docLink = document.createElement('div');\n",
              "        docLink.innerHTML = docLinkHtml;\n",
              "        element.appendChild(docLink);\n",
              "      }\n",
              "    </script>\n",
              "  </div>\n",
              "\n",
              "\n",
              "    <div id=\"df-e100a2ad-d01c-4aff-b8b3-37ab9cfb8407\">\n",
              "      <button class=\"colab-df-quickchart\" onclick=\"quickchart('df-e100a2ad-d01c-4aff-b8b3-37ab9cfb8407')\"\n",
              "                title=\"Suggest charts\"\n",
              "                style=\"display:none;\">\n",
              "\n",
              "<svg xmlns=\"http://www.w3.org/2000/svg\" height=\"24px\"viewBox=\"0 0 24 24\"\n",
              "     width=\"24px\">\n",
              "    <g>\n",
              "        <path d=\"M19 3H5c-1.1 0-2 .9-2 2v14c0 1.1.9 2 2 2h14c1.1 0 2-.9 2-2V5c0-1.1-.9-2-2-2zM9 17H7v-7h2v7zm4 0h-2V7h2v10zm4 0h-2v-4h2v4z\"/>\n",
              "    </g>\n",
              "</svg>\n",
              "      </button>\n",
              "\n",
              "<style>\n",
              "  .colab-df-quickchart {\n",
              "      --bg-color: #E8F0FE;\n",
              "      --fill-color: #1967D2;\n",
              "      --hover-bg-color: #E2EBFA;\n",
              "      --hover-fill-color: #174EA6;\n",
              "      --disabled-fill-color: #AAA;\n",
              "      --disabled-bg-color: #DDD;\n",
              "  }\n",
              "\n",
              "  [theme=dark] .colab-df-quickchart {\n",
              "      --bg-color: #3B4455;\n",
              "      --fill-color: #D2E3FC;\n",
              "      --hover-bg-color: #434B5C;\n",
              "      --hover-fill-color: #FFFFFF;\n",
              "      --disabled-bg-color: #3B4455;\n",
              "      --disabled-fill-color: #666;\n",
              "  }\n",
              "\n",
              "  .colab-df-quickchart {\n",
              "    background-color: var(--bg-color);\n",
              "    border: none;\n",
              "    border-radius: 50%;\n",
              "    cursor: pointer;\n",
              "    display: none;\n",
              "    fill: var(--fill-color);\n",
              "    height: 32px;\n",
              "    padding: 0;\n",
              "    width: 32px;\n",
              "  }\n",
              "\n",
              "  .colab-df-quickchart:hover {\n",
              "    background-color: var(--hover-bg-color);\n",
              "    box-shadow: 0 1px 2px rgba(60, 64, 67, 0.3), 0 1px 3px 1px rgba(60, 64, 67, 0.15);\n",
              "    fill: var(--button-hover-fill-color);\n",
              "  }\n",
              "\n",
              "  .colab-df-quickchart-complete:disabled,\n",
              "  .colab-df-quickchart-complete:disabled:hover {\n",
              "    background-color: var(--disabled-bg-color);\n",
              "    fill: var(--disabled-fill-color);\n",
              "    box-shadow: none;\n",
              "  }\n",
              "\n",
              "  .colab-df-spinner {\n",
              "    border: 2px solid var(--fill-color);\n",
              "    border-color: transparent;\n",
              "    border-bottom-color: var(--fill-color);\n",
              "    animation:\n",
              "      spin 1s steps(1) infinite;\n",
              "  }\n",
              "\n",
              "  @keyframes spin {\n",
              "    0% {\n",
              "      border-color: transparent;\n",
              "      border-bottom-color: var(--fill-color);\n",
              "      border-left-color: var(--fill-color);\n",
              "    }\n",
              "    20% {\n",
              "      border-color: transparent;\n",
              "      border-left-color: var(--fill-color);\n",
              "      border-top-color: var(--fill-color);\n",
              "    }\n",
              "    30% {\n",
              "      border-color: transparent;\n",
              "      border-left-color: var(--fill-color);\n",
              "      border-top-color: var(--fill-color);\n",
              "      border-right-color: var(--fill-color);\n",
              "    }\n",
              "    40% {\n",
              "      border-color: transparent;\n",
              "      border-right-color: var(--fill-color);\n",
              "      border-top-color: var(--fill-color);\n",
              "    }\n",
              "    60% {\n",
              "      border-color: transparent;\n",
              "      border-right-color: var(--fill-color);\n",
              "    }\n",
              "    80% {\n",
              "      border-color: transparent;\n",
              "      border-right-color: var(--fill-color);\n",
              "      border-bottom-color: var(--fill-color);\n",
              "    }\n",
              "    90% {\n",
              "      border-color: transparent;\n",
              "      border-bottom-color: var(--fill-color);\n",
              "    }\n",
              "  }\n",
              "</style>\n",
              "\n",
              "      <script>\n",
              "        async function quickchart(key) {\n",
              "          const quickchartButtonEl =\n",
              "            document.querySelector('#' + key + ' button');\n",
              "          quickchartButtonEl.disabled = true;  // To prevent multiple clicks.\n",
              "          quickchartButtonEl.classList.add('colab-df-spinner');\n",
              "          try {\n",
              "            const charts = await google.colab.kernel.invokeFunction(\n",
              "                'suggestCharts', [key], {});\n",
              "          } catch (error) {\n",
              "            console.error('Error during call to suggestCharts:', error);\n",
              "          }\n",
              "          quickchartButtonEl.classList.remove('colab-df-spinner');\n",
              "          quickchartButtonEl.classList.add('colab-df-quickchart-complete');\n",
              "        }\n",
              "        (() => {\n",
              "          let quickchartButtonEl =\n",
              "            document.querySelector('#df-e100a2ad-d01c-4aff-b8b3-37ab9cfb8407 button');\n",
              "          quickchartButtonEl.style.display =\n",
              "            google.colab.kernel.accessAllowed ? 'block' : 'none';\n",
              "        })();\n",
              "      </script>\n",
              "    </div>\n",
              "\n",
              "  <div id=\"id_10199b75-fe40-43af-aea9-a92a1f083015\">\n",
              "    <style>\n",
              "      .colab-df-generate {\n",
              "        background-color: #E8F0FE;\n",
              "        border: none;\n",
              "        border-radius: 50%;\n",
              "        cursor: pointer;\n",
              "        display: none;\n",
              "        fill: #1967D2;\n",
              "        height: 32px;\n",
              "        padding: 0 0 0 0;\n",
              "        width: 32px;\n",
              "      }\n",
              "\n",
              "      .colab-df-generate:hover {\n",
              "        background-color: #E2EBFA;\n",
              "        box-shadow: 0px 1px 2px rgba(60, 64, 67, 0.3), 0px 1px 3px 1px rgba(60, 64, 67, 0.15);\n",
              "        fill: #174EA6;\n",
              "      }\n",
              "\n",
              "      [theme=dark] .colab-df-generate {\n",
              "        background-color: #3B4455;\n",
              "        fill: #D2E3FC;\n",
              "      }\n",
              "\n",
              "      [theme=dark] .colab-df-generate:hover {\n",
              "        background-color: #434B5C;\n",
              "        box-shadow: 0px 1px 3px 1px rgba(0, 0, 0, 0.15);\n",
              "        filter: drop-shadow(0px 1px 2px rgba(0, 0, 0, 0.3));\n",
              "        fill: #FFFFFF;\n",
              "      }\n",
              "    </style>\n",
              "    <button class=\"colab-df-generate\" onclick=\"generateWithVariable('hikaru')\"\n",
              "            title=\"Generate code using this dataframe.\"\n",
              "            style=\"display:none;\">\n",
              "\n",
              "  <svg xmlns=\"http://www.w3.org/2000/svg\" height=\"24px\"viewBox=\"0 0 24 24\"\n",
              "       width=\"24px\">\n",
              "    <path d=\"M7,19H8.4L18.45,9,17,7.55,7,17.6ZM5,21V16.75L18.45,3.32a2,2,0,0,1,2.83,0l1.4,1.43a1.91,1.91,0,0,1,.58,1.4,1.91,1.91,0,0,1-.58,1.4L9.25,21ZM18.45,9,17,7.55Zm-12,3A5.31,5.31,0,0,0,4.9,8.1,5.31,5.31,0,0,0,1,6.5,5.31,5.31,0,0,0,4.9,4.9,5.31,5.31,0,0,0,6.5,1,5.31,5.31,0,0,0,8.1,4.9,5.31,5.31,0,0,0,12,6.5,5.46,5.46,0,0,0,6.5,12Z\"/>\n",
              "  </svg>\n",
              "    </button>\n",
              "    <script>\n",
              "      (() => {\n",
              "      const buttonEl =\n",
              "        document.querySelector('#id_10199b75-fe40-43af-aea9-a92a1f083015 button.colab-df-generate');\n",
              "      buttonEl.style.display =\n",
              "        google.colab.kernel.accessAllowed ? 'block' : 'none';\n",
              "\n",
              "      buttonEl.onclick = () => {\n",
              "        google.colab.notebook.generateWithVariable('hikaru');\n",
              "      }\n",
              "      })();\n",
              "    </script>\n",
              "  </div>\n",
              "\n",
              "    </div>\n",
              "  </div>\n"
            ],
            "application/vnd.google.colaboratory.intrinsic+json": {
              "type": "dataframe",
              "variable_name": "hikaru",
              "summary": "{\n  \"name\": \"hikaru\",\n  \"rows\": 38004,\n  \"fields\": [\n    {\n      \"column\": \"userAccuracy\",\n      \"properties\": {\n        \"dtype\": \"number\",\n        \"std\": 7.98870322026708,\n        \"min\": 0.0,\n        \"max\": 100.0,\n        \"num_unique_values\": 3282,\n        \"samples\": [\n          85.06,\n          89.64,\n          79.65\n        ],\n        \"semantic_type\": \"\",\n        \"description\": \"\"\n      }\n    },\n    {\n      \"column\": \"opponentAccuracy\",\n      \"properties\": {\n        \"dtype\": \"number\",\n        \"std\": 10.586660012270855,\n        \"min\": 0.0,\n        \"max\": 100.0,\n        \"num_unique_values\": 4278,\n        \"samples\": [\n          76.91,\n          78.35,\n          97.74\n        ],\n        \"semantic_type\": \"\",\n        \"description\": \"\"\n      }\n    },\n    {\n      \"column\": \"gameUrl\",\n      \"properties\": {\n        \"dtype\": \"string\",\n        \"num_unique_values\": 38004,\n        \"samples\": [\n          \"https://www.chess.com/game/live/3601415791?ref_id=74104030\",\n          \"https://www.chess.com/game/live/4509384403?ref_id=74104030\",\n          \"https://www.chess.com/game/live/2911630758?ref_id=74104030\"\n        ],\n        \"semantic_type\": \"\",\n        \"description\": \"\"\n      }\n    },\n    {\n      \"column\": \"gameId\",\n      \"properties\": {\n        \"dtype\": \"number\",\n        \"std\": 48364296420,\n        \"min\": 1018376703,\n        \"max\": 150559092799,\n        \"num_unique_values\": 38004,\n        \"samples\": [\n          3601415791,\n          4509384403,\n          2911630758\n        ],\n        \"semantic_type\": \"\",\n        \"description\": \"\"\n      }\n    },\n    {\n      \"column\": \"timeClass\",\n      \"properties\": {\n        \"dtype\": \"category\",\n        \"num_unique_values\": 1,\n        \"samples\": [\n          \"blitz\"\n        ],\n        \"semantic_type\": \"\",\n        \"description\": \"\"\n      }\n    },\n    {\n      \"column\": \"fen\",\n      \"properties\": {\n        \"dtype\": \"string\",\n        \"num_unique_values\": 37863,\n        \"samples\": [\n          \"6k1/6b1/3p4/3P4/B3Np1n/5PpP/4K3/8 w - -\"\n        ],\n        \"semantic_type\": \"\",\n        \"description\": \"\"\n      }\n    },\n    {\n      \"column\": \"userColor\",\n      \"properties\": {\n        \"dtype\": \"category\",\n        \"num_unique_values\": 2,\n        \"samples\": [\n          \"white\"\n        ],\n        \"semantic_type\": \"\",\n        \"description\": \"\"\n      }\n    },\n    {\n      \"column\": \"userRating\",\n      \"properties\": {\n        \"dtype\": \"number\",\n        \"std\": 127,\n        \"min\": 2707,\n        \"max\": 3431,\n        \"num_unique_values\": 684,\n        \"samples\": [\n          2935\n        ],\n        \"semantic_type\": \"\",\n        \"description\": \"\"\n      }\n    },\n    {\n      \"column\": \"opponent\",\n      \"properties\": {\n        \"dtype\": \"category\",\n        \"num_unique_values\": 2161,\n        \"samples\": [\n          \"SUPERGM0254\"\n        ],\n        \"semantic_type\": \"\",\n        \"description\": \"\"\n      }\n    },\n    {\n      \"column\": \"opponentRating\",\n      \"properties\": {\n        \"dtype\": \"number\",\n        \"std\": 159,\n        \"min\": 2501,\n        \"max\": 3366,\n        \"num_unique_values\": 777,\n        \"samples\": [\n          2736\n        ],\n        \"semantic_type\": \"\",\n        \"description\": \"\"\n      }\n    },\n    {\n      \"column\": \"opponentUrl\",\n      \"properties\": {\n        \"dtype\": \"category\",\n        \"num_unique_values\": 2161,\n        \"samples\": [\n          \"https://www.chess.com/member/SUPERGM0254\"\n        ],\n        \"semantic_type\": \"\",\n        \"description\": \"\"\n      }\n    },\n    {\n      \"column\": \"result\",\n      \"properties\": {\n        \"dtype\": \"category\",\n        \"num_unique_values\": 11,\n        \"samples\": [\n          \"timeout\"\n        ],\n        \"semantic_type\": \"\",\n        \"description\": \"\"\n      }\n    },\n    {\n      \"column\": \"wonBy\",\n      \"properties\": {\n        \"dtype\": \"category\",\n        \"num_unique_values\": 4,\n        \"samples\": [\n          \"resigned\"\n        ],\n        \"semantic_type\": \"\",\n        \"description\": \"\"\n      }\n    },\n    {\n      \"column\": \"date\",\n      \"properties\": {\n        \"dtype\": \"object\",\n        \"num_unique_values\": 1729,\n        \"samples\": [\n          \"2022.01.20\"\n        ],\n        \"semantic_type\": \"\",\n        \"description\": \"\"\n      }\n    },\n    {\n      \"column\": \"openingUrl\",\n      \"properties\": {\n        \"dtype\": \"category\",\n        \"num_unique_values\": 9150,\n        \"samples\": [\n          \"https://www.chess.com/openings/Sicilian-Defense-Hyperaccelerated-Dragon-Variation...6.exd5-Nf6-7.Nc3-O-O-8.Bc4\"\n        ],\n        \"semantic_type\": \"\",\n        \"description\": \"\"\n      }\n    },\n    {\n      \"column\": \"opening\",\n      \"properties\": {\n        \"dtype\": \"category\",\n        \"num_unique_values\": 9150,\n        \"samples\": [\n          \"Sicilian Defense Hyperaccelerated Dragon Variation...6.exd5 Nf6 7.Nc3 O O 8.Bc4\"\n        ],\n        \"semantic_type\": \"\",\n        \"description\": \"\"\n      }\n    },\n    {\n      \"column\": \"startTime\",\n      \"properties\": {\n        \"dtype\": \"string\",\n        \"num_unique_values\": 27863,\n        \"samples\": [\n          \"20:00:47\"\n        ],\n        \"semantic_type\": \"\",\n        \"description\": \"\"\n      }\n    },\n    {\n      \"column\": \"endTime\",\n      \"properties\": {\n        \"dtype\": \"string\",\n        \"num_unique_values\": 28064,\n        \"samples\": [\n          \"10:20:09\"\n        ],\n        \"semantic_type\": \"\",\n        \"description\": \"\"\n      }\n    },\n    {\n      \"column\": \"outcome\",\n      \"properties\": {\n        \"dtype\": \"number\",\n        \"std\": 19.816596190781272,\n        \"min\": 1.0,\n        \"max\": 810.0,\n        \"num_unique_values\": 167,\n        \"samples\": [\n          131.0\n        ],\n        \"semantic_type\": \"\",\n        \"description\": \"\"\n      }\n    },\n    {\n      \"column\": \"moveCount\",\n      \"properties\": {\n        \"dtype\": \"category\",\n        \"num_unique_values\": 10,\n        \"samples\": [\n          \"50move\"\n        ],\n        \"semantic_type\": \"\",\n        \"description\": \"\"\n      }\n    }\n  ]\n}"
            }
          },
          "metadata": {},
          "execution_count": 61
        }
      ]
    },
    {
      "cell_type": "markdown",
      "source": [
        "Now that we have that done we see that we have more than enough data to use for our beta binomial predictive model.\n",
        "\n",
        "Now that we have the data required to make a strong predictive model, we need to see how many wins and not wins there are. Not wins consist of losses and draws, anything that is not a win."
      ],
      "metadata": {
        "id": "juxSejIsn8lg"
      }
    },
    {
      "cell_type": "code",
      "source": [
        "win = hikaru.query('result == \"win\"').shape[0]\n",
        "loss = hikaru.query('result == \"resigned\"').shape[0]\n",
        "loss += hikaru.query('result == \"checkmated\"').shape[0]\n",
        "loss += hikaru.query('result == \"timeout\"').shape[0]\n",
        "loss += hikaru.query('result == \"abandoned\"').shape[0]\n",
        "loss += hikaru.query('result == \"50move\"').shape[0]\n",
        "loss += hikaru.query('result == \"repetition\"').shape[0]\n",
        "loss += hikaru.query('result == \"insufficient\"').shape[0]\n",
        "loss += hikaru.query('result == \"timevsinsufficient\"').shape[0]\n",
        "loss += hikaru.query('result == \"stalemate\"').shape[0]\n",
        "loss += hikaru.query('result == \"agreed\"').shape[0]\n",
        "\n",
        "total = win + loss"
      ],
      "metadata": {
        "id": "MaeROAh71_Oa"
      },
      "execution_count": null,
      "outputs": []
    },
    {
      "cell_type": "code",
      "source": [
        "win"
      ],
      "metadata": {
        "colab": {
          "base_uri": "https://localhost:8080/"
        },
        "id": "v9QqQIcR27P7",
        "outputId": "e9edeada-a387-417b-b93c-861ccaa83f04"
      },
      "execution_count": null,
      "outputs": [
        {
          "output_type": "execute_result",
          "data": {
            "text/plain": [
              "28884"
            ]
          },
          "metadata": {},
          "execution_count": 63
        }
      ]
    },
    {
      "cell_type": "code",
      "source": [
        "loss"
      ],
      "metadata": {
        "colab": {
          "base_uri": "https://localhost:8080/"
        },
        "id": "7SfQexsC4ax9",
        "outputId": "f036992c-54d3-42c5-9220-f499c2264192"
      },
      "execution_count": null,
      "outputs": [
        {
          "output_type": "execute_result",
          "data": {
            "text/plain": [
              "9120"
            ]
          },
          "metadata": {},
          "execution_count": 64
        }
      ]
    },
    {
      "cell_type": "markdown",
      "source": [
        "Now that we have the data filtered into only two outcomes, we can use this to make a likelihood distribution using a binomial distribution function. The reason that we would want to create a likelihood distribution is so that we can visualize the likelihood of a certain number of successes occuring. In other words, we want to see how likely each success rate is. Each point on the binomial distribution is one of the many possibile success numbers."
      ],
      "metadata": {
        "id": "ixyrm9WtJRZt"
      }
    },
    {
      "cell_type": "code",
      "source": [
        "pz.Binomial(n = 38004, p = 28884/38004).plot_pdf()"
      ],
      "metadata": {
        "colab": {
          "base_uri": "https://localhost:8080/",
          "height": 451
        },
        "id": "RHtsBb60ijiN",
        "outputId": "1e0ce5c5-7e69-42ad-c625-5c00011e647a"
      },
      "execution_count": null,
      "outputs": [
        {
          "output_type": "execute_result",
          "data": {
            "text/plain": [
              "<Axes: >"
            ]
          },
          "metadata": {},
          "execution_count": 67
        },
        {
          "output_type": "display_data",
          "data": {
            "text/plain": [
              "<Figure size 640x480 with 1 Axes>"
            ],
            "image/png": "[encoded data removed]"
          },
          "metadata": {}
        }
      ]
    },
    {
      "cell_type": "markdown",
      "source": [
        "# **Posterior Prediction**\n",
        "\n",
        "By looking at our prior mean from the prior data, we can say that ther is a 76.2% chance of success (or winning). But in order to have a solid predictive model we need to use the games that are more recent and in a larger number. We can't use ~40 games to make a reliable prediction model.\n",
        "\n",
        "What we can do is use the larger dataset with ~38000 games and substitute them into the sampler below. By replacing the win and loss values we can model a prediction based on the data that we have. The code below is making a sample for a posterior using the PYMC library. I will use this to visualize the posterior on a graph later on."
      ],
      "metadata": {
        "id": "DybFmZ9wLYS_"
      }
    },
    {
      "cell_type": "code",
      "source": [
        "#setting variables to win and loss respectively.\n",
        "w = win\n",
        "l = loss\n",
        "\n",
        "# the w value is 28884 but i am using a variable to make it more streamlined\n",
        "wins = np.repeat(1, w)\n",
        "# the l value is 9120 but i am using a variable to make it more streamlined\n",
        "losses = np.repeat(0, l)\n",
        "\n",
        "# combining all of the data into a data variable\n",
        "data = np.concatenate( [wins,losses] )\n",
        "\n",
        "with pm.Model() as hikarumodel:\n",
        "  # beta prior\n",
        "  θ = pm.Beta('θ' , alpha = 32. , beta = 10.)\n",
        "\n",
        "  #likelihood using bernoulli distribution\n",
        "  y = pm.Bernoulli('y', p = θ, observed = data)\n",
        "\n",
        "  #the sample that we use for posterior\n",
        "  hikarusample = pm.sample()"
      ],
      "metadata": {
        "id": "p0VA2ODqdcPp",
        "outputId": "011e6779-b33a-4a82-e56a-f991c25a0cec",
        "colab": {
          "base_uri": "https://localhost:8080/",
          "height": 116,
          "referenced_widgets": [
            "23f35fdf592e4a878dfe9059f2c6e1c7",
            "66a2e633f8744518b18767ab2ba253e2"
          ]
        }
      },
      "execution_count": null,
      "outputs": [
        {
          "output_type": "display_data",
          "data": {
            "text/plain": [
              "Output()"
            ],
            "application/vnd.jupyter.widget-view+json": {
              "version_major": 2,
              "version_minor": 0,
              "model_id": "23f35fdf592e4a878dfe9059f2c6e1c7"
            }
          },
          "metadata": {}
        },
        {
          "output_type": "display_data",
          "data": {
            "text/plain": [],
            "text/html": [
              "<pre style=\"white-space:pre;overflow-x:auto;line-height:normal;font-family:Menlo,'DejaVu Sans Mono',consolas,'Courier New',monospace\"></pre>\n"
            ]
          },
          "metadata": {}
        }
      ]
    },
    {
      "cell_type": "markdown",
      "source": [
        "The code above essentially created a sample \"packet\" that we can now graph by using the plot_posterior command from the arviz library."
      ],
      "metadata": {
        "id": "hZVaVjPJZs5O"
      }
    },
    {
      "cell_type": "code",
      "source": [
        "az.plot_posterior(hikarusample)"
      ],
      "metadata": {
        "id": "Im3txWiKd4F5",
        "outputId": "8b51c747-56d8-4703-8d86-8169e9254bbd",
        "colab": {
          "base_uri": "https://localhost:8080/",
          "height": 476
        }
      },
      "execution_count": null,
      "outputs": [
        {
          "output_type": "execute_result",
          "data": {
            "text/plain": [
              "<Axes: title={'center': 'θ'}>"
            ]
          },
          "metadata": {},
          "execution_count": 71
        },
        {
          "output_type": "display_data",
          "data": {
            "text/plain": [
              "<Figure size 640x480 with 1 Axes>"
            ],
            "image/png": "[encoded data removed]"
          },
          "metadata": {}
        }
      ]
    },
    {
      "cell_type": "markdown",
      "source": [
        "# **Conclusion**\n",
        "\n",
        "Looking at the graph above, we can make some conclusions:\n",
        "* The likelihood of Hikaru winning a blitz chess game is around 76%\n",
        "* This is extremely close to the mean of my prior which was 76.2%\n",
        "* My posterior pretty closely resembles my prior data beta distribution\n",
        "* Although my prior was pretty close to the likelihood, this might be because the prior data might have been too small of a data set."
      ],
      "metadata": {
        "id": "4E06Ja2walxH"
      }
    }
  ]
}
