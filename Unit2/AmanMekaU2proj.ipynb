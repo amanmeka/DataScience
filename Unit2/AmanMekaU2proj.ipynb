{
  "nbformat": 4,
  "nbformat_minor": 0,
  "metadata": {
    "colab": {
      "provenance": [],
      "include_colab_link": true
    },
    "kernelspec": {
      "name": "python3",
      "display_name": "Python 3"
    },
    "language_info": {
      "name": "python"
    }
  },
  "cells": [
    {
      "cell_type": "markdown",
      "metadata": {
        "id": "view-in-github",
        "colab_type": "text"
      },
      "source": [
        "<a href=\"https://colab.research.google.com/github/amanmeka/DataScience/blob/main/Unit2/AmanMekaU2proj.ipynb\" target=\"_parent\"><img src=\"https://colab.research.google.com/assets/colab-badge.svg\" alt=\"Open In Colab\"/></a>"
      ]
    },
    {
      "cell_type": "markdown",
      "source": [
        "# **Unit 2 Project: Hikaru Prediction Model**"
      ],
      "metadata": {
        "id": "g29oogrGbXkS"
      }
    },
    {
      "cell_type": "markdown",
      "source": [
        "First we need to pip install preliz and importing numpy, pymc, arviz, and pandas:"
      ],
      "metadata": {
        "id": "OZ1L4T2_EiBR"
      }
    },
    {
      "cell_type": "code",
      "source": [
        "# Installing packages\n",
        "!pip install preliz\n",
        "import preliz as pz\n",
        "\n",
        "import numpy as np\n",
        "import pymc as pm\n",
        "import arviz as az\n",
        "import pandas as pd"
      ],
      "metadata": {
        "colab": {
          "base_uri": "https://localhost:8080/"
        },
        "id": "78NveKuXyWcB",
        "outputId": "705bc3ff-e539-46fd-92b9-121b99e7fbbd",
        "collapsed": true
      },
      "execution_count": 35,
      "outputs": [
        {
          "output_type": "stream",
          "name": "stdout",
          "text": [
            "Requirement already satisfied: preliz in /usr/local/lib/python3.12/dist-packages (0.21.0)\n",
            "Requirement already satisfied: arviz_stats>=0.6.0 in /usr/local/lib/python3.12/dist-packages (from preliz) (0.6.0)\n",
            "Requirement already satisfied: matplotlib>=3.8 in /usr/local/lib/python3.12/dist-packages (from preliz) (3.10.0)\n",
            "Requirement already satisfied: numba>=0.59 in /usr/local/lib/python3.12/dist-packages (from preliz) (0.60.0)\n",
            "Requirement already satisfied: numpy>=2.0 in /usr/local/lib/python3.12/dist-packages (from preliz) (2.0.2)\n",
            "Requirement already satisfied: scipy>=1.12 in /usr/local/lib/python3.12/dist-packages (from preliz) (1.16.1)\n",
            "Requirement already satisfied: contourpy>=1.0.1 in /usr/local/lib/python3.12/dist-packages (from matplotlib>=3.8->preliz) (1.3.3)\n",
            "Requirement already satisfied: cycler>=0.10 in /usr/local/lib/python3.12/dist-packages (from matplotlib>=3.8->preliz) (0.12.1)\n",
            "Requirement already satisfied: fonttools>=4.22.0 in /usr/local/lib/python3.12/dist-packages (from matplotlib>=3.8->preliz) (4.59.2)\n",
            "Requirement already satisfied: kiwisolver>=1.3.1 in /usr/local/lib/python3.12/dist-packages (from matplotlib>=3.8->preliz) (1.4.9)\n",
            "Requirement already satisfied: packaging>=20.0 in /usr/local/lib/python3.12/dist-packages (from matplotlib>=3.8->preliz) (25.0)\n",
            "Requirement already satisfied: pillow>=8 in /usr/local/lib/python3.12/dist-packages (from matplotlib>=3.8->preliz) (11.3.0)\n",
            "Requirement already satisfied: pyparsing>=2.3.1 in /usr/local/lib/python3.12/dist-packages (from matplotlib>=3.8->preliz) (3.2.3)\n",
            "Requirement already satisfied: python-dateutil>=2.7 in /usr/local/lib/python3.12/dist-packages (from matplotlib>=3.8->preliz) (2.9.0.post0)\n",
            "Requirement already satisfied: llvmlite<0.44,>=0.43.0dev0 in /usr/local/lib/python3.12/dist-packages (from numba>=0.59->preliz) (0.43.0)\n",
            "Requirement already satisfied: six>=1.5 in /usr/local/lib/python3.12/dist-packages (from python-dateutil>=2.7->matplotlib>=3.8->preliz) (1.17.0)\n"
          ]
        }
      ]
    },
    {
      "cell_type": "markdown",
      "source": [
        "# **Intro**\n",
        "\n",
        "In this project I create a prediction model that is capable of predicting/determining the chance of GM Hikaru winning a chess game.\n",
        "\n",
        "I chose this data mainly because I enjoy playing chess in my free time and I was interested in seeing how often the best players win their chess games. I also chose this dataset because I knew that I would be able to easily find a dataset with enough data."
      ],
      "metadata": {
        "id": "pBWCqPvvE96p"
      }
    },
    {
      "cell_type": "markdown",
      "source": [
        "# **Prior**\n",
        "\n",
        "In order to make a strong prediction model, we first need to come up with a prior. Hikaru streams while playing chess every so often and I noticed that whenever Hikaru plays a game against someone that is equally skilled, he usually wins around 6 out of 10 games.\n",
        "\n",
        "Also by looking at the common win percentages among players at the same skill level and rating as Hikaru, I estimate that the percentage is around 60%. In this case, because our dataset is pretty big, I will have a prior of 60 wins and 40 not wins. I don't want my prior to be too strong because if my prior is too strong, it might bias the prediction too much.\n",
        "\n",
        "Note: In chess there are actually three ways a game can end. Therefore I am classifying the wins and draws into one category: not wins."
      ],
      "metadata": {
        "id": "Eu5_4vhA1p5d"
      }
    },
    {
      "cell_type": "markdown",
      "source": [
        "Then we can split the data into either wins or not wins. Not wins is either a draw or a loss. We can do this by querying the result column and counting the number of wins and not wins respectively.\n",
        "\n",
        "Note: In chess there are multiple different ways that a game can end, therefore there will be a lot of queries that lead to one of 3 outcomes: win, loss, draw. In this case we are considering draws and losses under one category, not wins."
      ],
      "metadata": {
        "id": "Kiyr7ZBsG2jA"
      }
    },
    {
      "cell_type": "markdown",
      "source": [
        "By calculating the mean of the prior (which is just 60/100), we get that Hikaru has a 60% predicted chance of winning his games (according to the prior). By looking at these values we can use them to graph a beta distribution to represent our prior. This is meant to show the probability of a success. All we have to do is assign the values of alpha and beta in the beta function as 60 and 40 respectively."
      ],
      "metadata": {
        "id": "8xeotOL5Hmgi"
      }
    },
    {
      "cell_type": "code",
      "source": [
        "pz.Beta(alpha=60,beta=40).plot_pdf()"
      ],
      "metadata": {
        "colab": {
          "base_uri": "https://localhost:8080/",
          "height": 447
        },
        "id": "NxyY1ofHHrID",
        "outputId": "0f87ec54-da43-404f-adb0-fee72c7f7a69"
      },
      "execution_count": 36,
      "outputs": [
        {
          "output_type": "execute_result",
          "data": {
            "text/plain": [
              "<Axes: >"
            ]
          },
          "metadata": {},
          "execution_count": 36
        },
        {
          "output_type": "display_data",
          "data": {
            "text/plain": [
              "<Figure size 640x480 with 1 Axes>"
            ],
            "image/png": "[encoded data removed]"
          },
          "metadata": {}
        }
      ]
    },
    {
      "cell_type": "markdown",
      "source": [
        "Looking at the graph, we can see that the peak is pretty similar to the expected percentage (60%)."
      ],
      "metadata": {
        "id": "NmbZ8QPOnEYp"
      }
    },
    {
      "cell_type": "markdown",
      "source": [
        "# **Likelihood Distribution**\n",
        "\n",
        "In our prior data analysis, we estimated a 60% chance of Hikaru winning a game. This was based off of the assumption that we would win 60 out of 100 games. I based this assumption off of my prior knowledge.\n",
        "\n",
        "Now that we have our prior analysis done, we can import our second dataset which is the dataset that includes the data for Hikaru's games from 2014 to the present.\n",
        "\n",
        "We can start by first assigning the raw data link which we get from the github repo and then reading that link into pandas. Then similarly to what we did with the prior data we need to limit the opponent's Elo to above 2950 and below 3400 because any Elo that is lower can be considered a significant disadvantage when they play against Hikaru (meaning that they will likely lose and bias the data)."
      ],
      "metadata": {
        "id": "BHswDj9HIKIL"
      }
    },
    {
      "cell_type": "code",
      "source": [
        "# read in the hikaru games dataset\n",
        "hikarugames = 'https://github.com/amanmeka/DataScience/raw/refs/heads/main/HikaruBlitzData.csv'\n",
        "\n",
        "hikaru = pd.read_csv(hikarugames)\n",
        "hikaru = hikaru.query(\"opponentRating > 2950\")\n",
        "hikaru = hikaru.query(\"opponentRating < 3400\")"
      ],
      "metadata": {
        "id": "ZomBva_4yQ6N"
      },
      "execution_count": 37,
      "outputs": []
    },
    {
      "cell_type": "code",
      "source": [
        "hikaru"
      ],
      "metadata": {
        "colab": {
          "base_uri": "https://localhost:8080/",
          "height": 982
        },
        "id": "mAIvGB7l1uRL",
        "outputId": "90a581d6-ff48-4046-a420-d87f2b7cc4d7"
      },
      "execution_count": 38,
      "outputs": [
        {
          "output_type": "execute_result",
          "data": {
            "text/plain": [
              "       userAccuracy  opponentAccuracy  \\\n",
              "46            76.31             74.83   \n",
              "48            78.20             85.56   \n",
              "50            80.72             87.78   \n",
              "51            82.91             87.53   \n",
              "52            83.08             82.40   \n",
              "...             ...               ...   \n",
              "39713         87.92             92.38   \n",
              "39714         88.02             93.20   \n",
              "39715         88.55             94.06   \n",
              "39722         94.77             88.06   \n",
              "39725         95.72             95.21   \n",
              "\n",
              "                                                 gameUrl        gameId  \\\n",
              "46     https://www.chess.com/game/live/150557892127?r...  150557892127   \n",
              "48     https://www.chess.com/game/live/150539894013?r...  150539894013   \n",
              "50     https://www.chess.com/game/live/150555494711?r...  150555494711   \n",
              "51     https://www.chess.com/game/live/150538095703?r...  150538095703   \n",
              "52     https://www.chess.com/game/live/150553697691?r...  150553697691   \n",
              "...                                                  ...           ...   \n",
              "39713  https://www.chess.com/game/live/1785594994?ref...    1785594994   \n",
              "39714  https://www.chess.com/game/live/1785564225?ref...    1785564225   \n",
              "39715  https://www.chess.com/game/live/1785555207?ref...    1785555207   \n",
              "39722  https://www.chess.com/game/live/1785584015?ref...    1785584015   \n",
              "39725  https://www.chess.com/game/live/1785570495?ref...    1785570495   \n",
              "\n",
              "      timeClass                                                fen userColor  \\\n",
              "46        blitz           8/1P6/6k1/3P1p2/8/pK5P/P7/6q1 w - - 0 63     black   \n",
              "48        blitz      1Q6/3p3k/3P3p/4B3/2Q2P2/KP4rp/7R/8 b - - 0 55     black   \n",
              "50        blitz       rr6/1kpBPP2/8/pP6/3B1R2/8/6b1/2K5 b - - 0 45     black   \n",
              "51        blitz          8/8/1R4B1/1P2kp1p/8/r6P/5PK1/8 b - - 0 54     black   \n",
              "52        blitz        4k3/2R3P1/p3P3/4K3/8/1p6/2p1r3/8 w - - 9 74     white   \n",
              "...         ...                                                ...       ...   \n",
              "39713     blitz                   R7/P6k/7P/6K1/r4p2/5P2/8/8 b - -     black   \n",
              "39714     blitz  8/1p2rpkp/2p2bp1/2P5/1PB1Q1P1/4P2P/3r1PK1/8 w - -     white   \n",
              "39715     blitz     2R2b2/5k2/2P2P1p/p3B1p1/6P1/5P2/2r4P/5K2 b - -     black   \n",
              "39722     blitz    2k1Q3/1p1n3p/pP1q2p1/3B1p2/1P6/6PK/5P1P/8 b - -     white   \n",
              "39725     blitz                    3B4/8/6k1/5n1p/8/7p/5K2/8 w - -     black   \n",
              "\n",
              "       userRating       opponent  opponentRating  \\\n",
              "46           3348       jcibarra            2998   \n",
              "48           3369      HVillagra            3016   \n",
              "50           3345     penguingm1            3070   \n",
              "51           3382  GMBenjaminBok            3019   \n",
              "52           3365  Vaathi_Coming            2980   \n",
              "...           ...            ...             ...   \n",
              "39713        2917  MagnusCarlsen            2965   \n",
              "39714        2914  MagnusCarlsen            2970   \n",
              "39715        2921  MagnusCarlsen            2957   \n",
              "39722        2924  MagnusCarlsen            2953   \n",
              "39725        2915  MagnusCarlsen            2968   \n",
              "\n",
              "                                      opponentUrl      result      wonBy  \\\n",
              "46          https://www.chess.com/member/jcibarra         win    timeout   \n",
              "48         https://www.chess.com/member/HVillagra    resigned        NaN   \n",
              "50        https://www.chess.com/member/penguingm1    resigned        NaN   \n",
              "51     https://www.chess.com/member/GMBenjaminBok    resigned        NaN   \n",
              "52     https://www.chess.com/member/Vaathi_Coming  repetition        NaN   \n",
              "...                                           ...         ...        ...   \n",
              "39713  https://www.chess.com/member/MagnusCarlsen    resigned        NaN   \n",
              "39714  https://www.chess.com/member/MagnusCarlsen    resigned        NaN   \n",
              "39715  https://www.chess.com/member/MagnusCarlsen    resigned        NaN   \n",
              "39722  https://www.chess.com/member/MagnusCarlsen         win  checkmate   \n",
              "39725  https://www.chess.com/member/MagnusCarlsen      agreed        NaN   \n",
              "\n",
              "             date                                         openingUrl  \\\n",
              "46     2025.08.26  https://www.chess.com/openings/Sicilian-Defens...   \n",
              "48     2025.08.26  https://www.chess.com/openings/Sicilian-Defens...   \n",
              "50     2025.08.26  https://www.chess.com/openings/Queens-Pawn-Ope...   \n",
              "51     2025.08.26  https://www.chess.com/openings/Slav-Defense-3....   \n",
              "52     2025.08.26  https://www.chess.com/openings/Trompowsky-Atta...   \n",
              "...           ...                                                ...   \n",
              "39713  2016.10.27  https://www.chess.com/openings/Kings-Indian-At...   \n",
              "39714  2016.10.27  https://www.chess.com/openings/Reti-Opening-Ni...   \n",
              "39715  2016.10.27  https://www.chess.com/openings/Queens-Pawn-Ope...   \n",
              "39722  2016.10.27  https://www.chess.com/openings/Ruy-Lopez-Openi...   \n",
              "39725  2016.10.27  https://www.chess.com/openings/Reti-Opening-Ki...   \n",
              "\n",
              "                                                 opening startTime   endTime  \\\n",
              "46     Sicilian Defense Smith Morra Gambit 2...cxd4 3...  21:35:28  21:43:46   \n",
              "48     Sicilian Defense Kan Modern Variation 5...Nf6 ...  16:37:04  16:45:09   \n",
              "50             Queens Pawn Opening Horwitz Defense 2.Bf4  20:58:55  21:06:31   \n",
              "51                         Slav Defense 3.Nc3 Nf6 4.cxd5  16:09:04  16:17:02   \n",
              "52          Trompowsky Attack Classical Defense 3.Nd2 d5  20:31:22  20:40:08   \n",
              "...                                                  ...       ...       ...   \n",
              "39713  Kings Indian Attack Double Fianchetto Variatio...  19:32:47  19:42:25   \n",
              "39714  Reti Opening Nimzo Larsen Variation...5.Be2 d6...  19:06:42  19:11:53   \n",
              "39715  Queens Pawn Opening Zukertort Variation...5.O ...  18:58:52  19:06:34   \n",
              "39722  Ruy Lopez Opening Berlin Rio Gambit Accepted.....  19:23:31  19:32:43   \n",
              "39725  Reti Opening Kings Indian Attack Symmetrical D...  19:11:53  19:23:27   \n",
              "\n",
              "       outcome   moveCount  \n",
              "46        62.0     timeout  \n",
              "48        55.0    resigned  \n",
              "50        45.0    resigned  \n",
              "51        54.0    resigned  \n",
              "52        73.0  repetition  \n",
              "...        ...         ...  \n",
              "39713     61.0    resigned  \n",
              "39714     28.0    resigned  \n",
              "39715     40.0    resigned  \n",
              "39722     54.0  checkmated  \n",
              "39725    102.0      agreed  \n",
              "\n",
              "[13216 rows x 20 columns]"
            ],
            "text/html": [
              "\n",
              "  <div id=\"df-e4509337-ceca-43c3-b9a7-954f5f3db6dd\" class=\"colab-df-container\">\n",
              "    <div>\n",
              "<style scoped>\n",
              "    .dataframe tbody tr th:only-of-type {\n",
              "        vertical-align: middle;\n",
              "    }\n",
              "\n",
              "    .dataframe tbody tr th {\n",
              "        vertical-align: top;\n",
              "    }\n",
              "\n",
              "    .dataframe thead th {\n",
              "        text-align: right;\n",
              "    }\n",
              "</style>\n",
              "<table border=\"1\" class=\"dataframe\">\n",
              "  <thead>\n",
              "    <tr style=\"text-align: right;\">\n",
              "      <th></th>\n",
              "      <th>userAccuracy</th>\n",
              "      <th>opponentAccuracy</th>\n",
              "      <th>gameUrl</th>\n",
              "      <th>gameId</th>\n",
              "      <th>timeClass</th>\n",
              "      <th>fen</th>\n",
              "      <th>userColor</th>\n",
              "      <th>userRating</th>\n",
              "      <th>opponent</th>\n",
              "      <th>opponentRating</th>\n",
              "      <th>opponentUrl</th>\n",
              "      <th>result</th>\n",
              "      <th>wonBy</th>\n",
              "      <th>date</th>\n",
              "      <th>openingUrl</th>\n",
              "      <th>opening</th>\n",
              "      <th>startTime</th>\n",
              "      <th>endTime</th>\n",
              "      <th>outcome</th>\n",
              "      <th>moveCount</th>\n",
              "    </tr>\n",
              "  </thead>\n",
              "  <tbody>\n",
              "    <tr>\n",
              "      <th>46</th>\n",
              "      <td>76.31</td>\n",
              "      <td>74.83</td>\n",
              "      <td>https://www.chess.com/game/live/150557892127?r...</td>\n",
              "      <td>150557892127</td>\n",
              "      <td>blitz</td>\n",
              "      <td>8/1P6/6k1/3P1p2/8/pK5P/P7/6q1 w - - 0 63</td>\n",
              "      <td>black</td>\n",
              "      <td>3348</td>\n",
              "      <td>jcibarra</td>\n",
              "      <td>2998</td>\n",
              "      <td>https://www.chess.com/member/jcibarra</td>\n",
              "      <td>win</td>\n",
              "      <td>timeout</td>\n",
              "      <td>2025.08.26</td>\n",
              "      <td>https://www.chess.com/openings/Sicilian-Defens...</td>\n",
              "      <td>Sicilian Defense Smith Morra Gambit 2...cxd4 3...</td>\n",
              "      <td>21:35:28</td>\n",
              "      <td>21:43:46</td>\n",
              "      <td>62.0</td>\n",
              "      <td>timeout</td>\n",
              "    </tr>\n",
              "    <tr>\n",
              "      <th>48</th>\n",
              "      <td>78.20</td>\n",
              "      <td>85.56</td>\n",
              "      <td>https://www.chess.com/game/live/150539894013?r...</td>\n",
              "      <td>150539894013</td>\n",
              "      <td>blitz</td>\n",
              "      <td>1Q6/3p3k/3P3p/4B3/2Q2P2/KP4rp/7R/8 b - - 0 55</td>\n",
              "      <td>black</td>\n",
              "      <td>3369</td>\n",
              "      <td>HVillagra</td>\n",
              "      <td>3016</td>\n",
              "      <td>https://www.chess.com/member/HVillagra</td>\n",
              "      <td>resigned</td>\n",
              "      <td>NaN</td>\n",
              "      <td>2025.08.26</td>\n",
              "      <td>https://www.chess.com/openings/Sicilian-Defens...</td>\n",
              "      <td>Sicilian Defense Kan Modern Variation 5...Nf6 ...</td>\n",
              "      <td>16:37:04</td>\n",
              "      <td>16:45:09</td>\n",
              "      <td>55.0</td>\n",
              "      <td>resigned</td>\n",
              "    </tr>\n",
              "    <tr>\n",
              "      <th>50</th>\n",
              "      <td>80.72</td>\n",
              "      <td>87.78</td>\n",
              "      <td>https://www.chess.com/game/live/150555494711?r...</td>\n",
              "      <td>150555494711</td>\n",
              "      <td>blitz</td>\n",
              "      <td>rr6/1kpBPP2/8/pP6/3B1R2/8/6b1/2K5 b - - 0 45</td>\n",
              "      <td>black</td>\n",
              "      <td>3345</td>\n",
              "      <td>penguingm1</td>\n",
              "      <td>3070</td>\n",
              "      <td>https://www.chess.com/member/penguingm1</td>\n",
              "      <td>resigned</td>\n",
              "      <td>NaN</td>\n",
              "      <td>2025.08.26</td>\n",
              "      <td>https://www.chess.com/openings/Queens-Pawn-Ope...</td>\n",
              "      <td>Queens Pawn Opening Horwitz Defense 2.Bf4</td>\n",
              "      <td>20:58:55</td>\n",
              "      <td>21:06:31</td>\n",
              "      <td>45.0</td>\n",
              "      <td>resigned</td>\n",
              "    </tr>\n",
              "    <tr>\n",
              "      <th>51</th>\n",
              "      <td>82.91</td>\n",
              "      <td>87.53</td>\n",
              "      <td>https://www.chess.com/game/live/150538095703?r...</td>\n",
              "      <td>150538095703</td>\n",
              "      <td>blitz</td>\n",
              "      <td>8/8/1R4B1/1P2kp1p/8/r6P/5PK1/8 b - - 0 54</td>\n",
              "      <td>black</td>\n",
              "      <td>3382</td>\n",
              "      <td>GMBenjaminBok</td>\n",
              "      <td>3019</td>\n",
              "      <td>https://www.chess.com/member/GMBenjaminBok</td>\n",
              "      <td>resigned</td>\n",
              "      <td>NaN</td>\n",
              "      <td>2025.08.26</td>\n",
              "      <td>https://www.chess.com/openings/Slav-Defense-3....</td>\n",
              "      <td>Slav Defense 3.Nc3 Nf6 4.cxd5</td>\n",
              "      <td>16:09:04</td>\n",
              "      <td>16:17:02</td>\n",
              "      <td>54.0</td>\n",
              "      <td>resigned</td>\n",
              "    </tr>\n",
              "    <tr>\n",
              "      <th>52</th>\n",
              "      <td>83.08</td>\n",
              "      <td>82.40</td>\n",
              "      <td>https://www.chess.com/game/live/150553697691?r...</td>\n",
              "      <td>150553697691</td>\n",
              "      <td>blitz</td>\n",
              "      <td>4k3/2R3P1/p3P3/4K3/8/1p6/2p1r3/8 w - - 9 74</td>\n",
              "      <td>white</td>\n",
              "      <td>3365</td>\n",
              "      <td>Vaathi_Coming</td>\n",
              "      <td>2980</td>\n",
              "      <td>https://www.chess.com/member/Vaathi_Coming</td>\n",
              "      <td>repetition</td>\n",
              "      <td>NaN</td>\n",
              "      <td>2025.08.26</td>\n",
              "      <td>https://www.chess.com/openings/Trompowsky-Atta...</td>\n",
              "      <td>Trompowsky Attack Classical Defense 3.Nd2 d5</td>\n",
              "      <td>20:31:22</td>\n",
              "      <td>20:40:08</td>\n",
              "      <td>73.0</td>\n",
              "      <td>repetition</td>\n",
              "    </tr>\n",
              "    <tr>\n",
              "      <th>...</th>\n",
              "      <td>...</td>\n",
              "      <td>...</td>\n",
              "      <td>...</td>\n",
              "      <td>...</td>\n",
              "      <td>...</td>\n",
              "      <td>...</td>\n",
              "      <td>...</td>\n",
              "      <td>...</td>\n",
              "      <td>...</td>\n",
              "      <td>...</td>\n",
              "      <td>...</td>\n",
              "      <td>...</td>\n",
              "      <td>...</td>\n",
              "      <td>...</td>\n",
              "      <td>...</td>\n",
              "      <td>...</td>\n",
              "      <td>...</td>\n",
              "      <td>...</td>\n",
              "      <td>...</td>\n",
              "      <td>...</td>\n",
              "    </tr>\n",
              "    <tr>\n",
              "      <th>39713</th>\n",
              "      <td>87.92</td>\n",
              "      <td>92.38</td>\n",
              "      <td>https://www.chess.com/game/live/1785594994?ref...</td>\n",
              "      <td>1785594994</td>\n",
              "      <td>blitz</td>\n",
              "      <td>R7/P6k/7P/6K1/r4p2/5P2/8/8 b - -</td>\n",
              "      <td>black</td>\n",
              "      <td>2917</td>\n",
              "      <td>MagnusCarlsen</td>\n",
              "      <td>2965</td>\n",
              "      <td>https://www.chess.com/member/MagnusCarlsen</td>\n",
              "      <td>resigned</td>\n",
              "      <td>NaN</td>\n",
              "      <td>2016.10.27</td>\n",
              "      <td>https://www.chess.com/openings/Kings-Indian-At...</td>\n",
              "      <td>Kings Indian Attack Double Fianchetto Variatio...</td>\n",
              "      <td>19:32:47</td>\n",
              "      <td>19:42:25</td>\n",
              "      <td>61.0</td>\n",
              "      <td>resigned</td>\n",
              "    </tr>\n",
              "    <tr>\n",
              "      <th>39714</th>\n",
              "      <td>88.02</td>\n",
              "      <td>93.20</td>\n",
              "      <td>https://www.chess.com/game/live/1785564225?ref...</td>\n",
              "      <td>1785564225</td>\n",
              "      <td>blitz</td>\n",
              "      <td>8/1p2rpkp/2p2bp1/2P5/1PB1Q1P1/4P2P/3r1PK1/8 w - -</td>\n",
              "      <td>white</td>\n",
              "      <td>2914</td>\n",
              "      <td>MagnusCarlsen</td>\n",
              "      <td>2970</td>\n",
              "      <td>https://www.chess.com/member/MagnusCarlsen</td>\n",
              "      <td>resigned</td>\n",
              "      <td>NaN</td>\n",
              "      <td>2016.10.27</td>\n",
              "      <td>https://www.chess.com/openings/Reti-Opening-Ni...</td>\n",
              "      <td>Reti Opening Nimzo Larsen Variation...5.Be2 d6...</td>\n",
              "      <td>19:06:42</td>\n",
              "      <td>19:11:53</td>\n",
              "      <td>28.0</td>\n",
              "      <td>resigned</td>\n",
              "    </tr>\n",
              "    <tr>\n",
              "      <th>39715</th>\n",
              "      <td>88.55</td>\n",
              "      <td>94.06</td>\n",
              "      <td>https://www.chess.com/game/live/1785555207?ref...</td>\n",
              "      <td>1785555207</td>\n",
              "      <td>blitz</td>\n",
              "      <td>2R2b2/5k2/2P2P1p/p3B1p1/6P1/5P2/2r4P/5K2 b - -</td>\n",
              "      <td>black</td>\n",
              "      <td>2921</td>\n",
              "      <td>MagnusCarlsen</td>\n",
              "      <td>2957</td>\n",
              "      <td>https://www.chess.com/member/MagnusCarlsen</td>\n",
              "      <td>resigned</td>\n",
              "      <td>NaN</td>\n",
              "      <td>2016.10.27</td>\n",
              "      <td>https://www.chess.com/openings/Queens-Pawn-Ope...</td>\n",
              "      <td>Queens Pawn Opening Zukertort Variation...5.O ...</td>\n",
              "      <td>18:58:52</td>\n",
              "      <td>19:06:34</td>\n",
              "      <td>40.0</td>\n",
              "      <td>resigned</td>\n",
              "    </tr>\n",
              "    <tr>\n",
              "      <th>39722</th>\n",
              "      <td>94.77</td>\n",
              "      <td>88.06</td>\n",
              "      <td>https://www.chess.com/game/live/1785584015?ref...</td>\n",
              "      <td>1785584015</td>\n",
              "      <td>blitz</td>\n",
              "      <td>2k1Q3/1p1n3p/pP1q2p1/3B1p2/1P6/6PK/5P1P/8 b - -</td>\n",
              "      <td>white</td>\n",
              "      <td>2924</td>\n",
              "      <td>MagnusCarlsen</td>\n",
              "      <td>2953</td>\n",
              "      <td>https://www.chess.com/member/MagnusCarlsen</td>\n",
              "      <td>win</td>\n",
              "      <td>checkmate</td>\n",
              "      <td>2016.10.27</td>\n",
              "      <td>https://www.chess.com/openings/Ruy-Lopez-Openi...</td>\n",
              "      <td>Ruy Lopez Opening Berlin Rio Gambit Accepted.....</td>\n",
              "      <td>19:23:31</td>\n",
              "      <td>19:32:43</td>\n",
              "      <td>54.0</td>\n",
              "      <td>checkmated</td>\n",
              "    </tr>\n",
              "    <tr>\n",
              "      <th>39725</th>\n",
              "      <td>95.72</td>\n",
              "      <td>95.21</td>\n",
              "      <td>https://www.chess.com/game/live/1785570495?ref...</td>\n",
              "      <td>1785570495</td>\n",
              "      <td>blitz</td>\n",
              "      <td>3B4/8/6k1/5n1p/8/7p/5K2/8 w - -</td>\n",
              "      <td>black</td>\n",
              "      <td>2915</td>\n",
              "      <td>MagnusCarlsen</td>\n",
              "      <td>2968</td>\n",
              "      <td>https://www.chess.com/member/MagnusCarlsen</td>\n",
              "      <td>agreed</td>\n",
              "      <td>NaN</td>\n",
              "      <td>2016.10.27</td>\n",
              "      <td>https://www.chess.com/openings/Reti-Opening-Ki...</td>\n",
              "      <td>Reti Opening Kings Indian Attack Symmetrical D...</td>\n",
              "      <td>19:11:53</td>\n",
              "      <td>19:23:27</td>\n",
              "      <td>102.0</td>\n",
              "      <td>agreed</td>\n",
              "    </tr>\n",
              "  </tbody>\n",
              "</table>\n",
              "<p>13216 rows × 20 columns</p>\n",
              "</div>\n",
              "    <div class=\"colab-df-buttons\">\n",
              "\n",
              "  <div class=\"colab-df-container\">\n",
              "    <button class=\"colab-df-convert\" onclick=\"convertToInteractive('df-e4509337-ceca-43c3-b9a7-954f5f3db6dd')\"\n",
              "            title=\"Convert this dataframe to an interactive table.\"\n",
              "            style=\"display:none;\">\n",
              "\n",
              "  <svg xmlns=\"http://www.w3.org/2000/svg\" height=\"24px\" viewBox=\"0 -960 960 960\">\n",
              "    <path d=\"M120-120v-720h720v720H120Zm60-500h600v-160H180v160Zm220 220h160v-160H400v160Zm0 220h160v-160H400v160ZM180-400h160v-160H180v160Zm440 0h160v-160H620v160ZM180-180h160v-160H180v160Zm440 0h160v-160H620v160Z\"/>\n",
              "  </svg>\n",
              "    </button>\n",
              "\n",
              "  <style>\n",
              "    .colab-df-container {\n",
              "      display:flex;\n",
              "      gap: 12px;\n",
              "    }\n",
              "\n",
              "    .colab-df-convert {\n",
              "      background-color: #E8F0FE;\n",
              "      border: none;\n",
              "      border-radius: 50%;\n",
              "      cursor: pointer;\n",
              "      display: none;\n",
              "      fill: #1967D2;\n",
              "      height: 32px;\n",
              "      padding: 0 0 0 0;\n",
              "      width: 32px;\n",
              "    }\n",
              "\n",
              "    .colab-df-convert:hover {\n",
              "      background-color: #E2EBFA;\n",
              "      box-shadow: 0px 1px 2px rgba(60, 64, 67, 0.3), 0px 1px 3px 1px rgba(60, 64, 67, 0.15);\n",
              "      fill: #174EA6;\n",
              "    }\n",
              "\n",
              "    .colab-df-buttons div {\n",
              "      margin-bottom: 4px;\n",
              "    }\n",
              "\n",
              "    [theme=dark] .colab-df-convert {\n",
              "      background-color: #3B4455;\n",
              "      fill: #D2E3FC;\n",
              "    }\n",
              "\n",
              "    [theme=dark] .colab-df-convert:hover {\n",
              "      background-color: #434B5C;\n",
              "      box-shadow: 0px 1px 3px 1px rgba(0, 0, 0, 0.15);\n",
              "      filter: drop-shadow(0px 1px 2px rgba(0, 0, 0, 0.3));\n",
              "      fill: #FFFFFF;\n",
              "    }\n",
              "  </style>\n",
              "\n",
              "    <script>\n",
              "      const buttonEl =\n",
              "        document.querySelector('#df-e4509337-ceca-43c3-b9a7-954f5f3db6dd button.colab-df-convert');\n",
              "      buttonEl.style.display =\n",
              "        google.colab.kernel.accessAllowed ? 'block' : 'none';\n",
              "\n",
              "      async function convertToInteractive(key) {\n",
              "        const element = document.querySelector('#df-e4509337-ceca-43c3-b9a7-954f5f3db6dd');\n",
              "        const dataTable =\n",
              "          await google.colab.kernel.invokeFunction('convertToInteractive',\n",
              "                                                    [key], {});\n",
              "        if (!dataTable) return;\n",
              "\n",
              "        const docLinkHtml = 'Like what you see? Visit the ' +\n",
              "          '<a target=\"_blank\" href=https://colab.research.google.com/notebooks/data_table.ipynb>data table notebook</a>'\n",
              "          + ' to learn more about interactive tables.';\n",
              "        element.innerHTML = '';\n",
              "        dataTable['output_type'] = 'display_data';\n",
              "        await google.colab.output.renderOutput(dataTable, element);\n",
              "        const docLink = document.createElement('div');\n",
              "        docLink.innerHTML = docLinkHtml;\n",
              "        element.appendChild(docLink);\n",
              "      }\n",
              "    </script>\n",
              "  </div>\n",
              "\n",
              "\n",
              "    <div id=\"df-8e864d8c-5e5a-4bce-b6fb-def75320e3bb\">\n",
              "      <button class=\"colab-df-quickchart\" onclick=\"quickchart('df-8e864d8c-5e5a-4bce-b6fb-def75320e3bb')\"\n",
              "                title=\"Suggest charts\"\n",
              "                style=\"display:none;\">\n",
              "\n",
              "<svg xmlns=\"http://www.w3.org/2000/svg\" height=\"24px\"viewBox=\"0 0 24 24\"\n",
              "     width=\"24px\">\n",
              "    <g>\n",
              "        <path d=\"M19 3H5c-1.1 0-2 .9-2 2v14c0 1.1.9 2 2 2h14c1.1 0 2-.9 2-2V5c0-1.1-.9-2-2-2zM9 17H7v-7h2v7zm4 0h-2V7h2v10zm4 0h-2v-4h2v4z\"/>\n",
              "    </g>\n",
              "</svg>\n",
              "      </button>\n",
              "\n",
              "<style>\n",
              "  .colab-df-quickchart {\n",
              "      --bg-color: #E8F0FE;\n",
              "      --fill-color: #1967D2;\n",
              "      --hover-bg-color: #E2EBFA;\n",
              "      --hover-fill-color: #174EA6;\n",
              "      --disabled-fill-color: #AAA;\n",
              "      --disabled-bg-color: #DDD;\n",
              "  }\n",
              "\n",
              "  [theme=dark] .colab-df-quickchart {\n",
              "      --bg-color: #3B4455;\n",
              "      --fill-color: #D2E3FC;\n",
              "      --hover-bg-color: #434B5C;\n",
              "      --hover-fill-color: #FFFFFF;\n",
              "      --disabled-bg-color: #3B4455;\n",
              "      --disabled-fill-color: #666;\n",
              "  }\n",
              "\n",
              "  .colab-df-quickchart {\n",
              "    background-color: var(--bg-color);\n",
              "    border: none;\n",
              "    border-radius: 50%;\n",
              "    cursor: pointer;\n",
              "    display: none;\n",
              "    fill: var(--fill-color);\n",
              "    height: 32px;\n",
              "    padding: 0;\n",
              "    width: 32px;\n",
              "  }\n",
              "\n",
              "  .colab-df-quickchart:hover {\n",
              "    background-color: var(--hover-bg-color);\n",
              "    box-shadow: 0 1px 2px rgba(60, 64, 67, 0.3), 0 1px 3px 1px rgba(60, 64, 67, 0.15);\n",
              "    fill: var(--button-hover-fill-color);\n",
              "  }\n",
              "\n",
              "  .colab-df-quickchart-complete:disabled,\n",
              "  .colab-df-quickchart-complete:disabled:hover {\n",
              "    background-color: var(--disabled-bg-color);\n",
              "    fill: var(--disabled-fill-color);\n",
              "    box-shadow: none;\n",
              "  }\n",
              "\n",
              "  .colab-df-spinner {\n",
              "    border: 2px solid var(--fill-color);\n",
              "    border-color: transparent;\n",
              "    border-bottom-color: var(--fill-color);\n",
              "    animation:\n",
              "      spin 1s steps(1) infinite;\n",
              "  }\n",
              "\n",
              "  @keyframes spin {\n",
              "    0% {\n",
              "      border-color: transparent;\n",
              "      border-bottom-color: var(--fill-color);\n",
              "      border-left-color: var(--fill-color);\n",
              "    }\n",
              "    20% {\n",
              "      border-color: transparent;\n",
              "      border-left-color: var(--fill-color);\n",
              "      border-top-color: var(--fill-color);\n",
              "    }\n",
              "    30% {\n",
              "      border-color: transparent;\n",
              "      border-left-color: var(--fill-color);\n",
              "      border-top-color: var(--fill-color);\n",
              "      border-right-color: var(--fill-color);\n",
              "    }\n",
              "    40% {\n",
              "      border-color: transparent;\n",
              "      border-right-color: var(--fill-color);\n",
              "      border-top-color: var(--fill-color);\n",
              "    }\n",
              "    60% {\n",
              "      border-color: transparent;\n",
              "      border-right-color: var(--fill-color);\n",
              "    }\n",
              "    80% {\n",
              "      border-color: transparent;\n",
              "      border-right-color: var(--fill-color);\n",
              "      border-bottom-color: var(--fill-color);\n",
              "    }\n",
              "    90% {\n",
              "      border-color: transparent;\n",
              "      border-bottom-color: var(--fill-color);\n",
              "    }\n",
              "  }\n",
              "</style>\n",
              "\n",
              "      <script>\n",
              "        async function quickchart(key) {\n",
              "          const quickchartButtonEl =\n",
              "            document.querySelector('#' + key + ' button');\n",
              "          quickchartButtonEl.disabled = true;  // To prevent multiple clicks.\n",
              "          quickchartButtonEl.classList.add('colab-df-spinner');\n",
              "          try {\n",
              "            const charts = await google.colab.kernel.invokeFunction(\n",
              "                'suggestCharts', [key], {});\n",
              "          } catch (error) {\n",
              "            console.error('Error during call to suggestCharts:', error);\n",
              "          }\n",
              "          quickchartButtonEl.classList.remove('colab-df-spinner');\n",
              "          quickchartButtonEl.classList.add('colab-df-quickchart-complete');\n",
              "        }\n",
              "        (() => {\n",
              "          let quickchartButtonEl =\n",
              "            document.querySelector('#df-8e864d8c-5e5a-4bce-b6fb-def75320e3bb button');\n",
              "          quickchartButtonEl.style.display =\n",
              "            google.colab.kernel.accessAllowed ? 'block' : 'none';\n",
              "        })();\n",
              "      </script>\n",
              "    </div>\n",
              "\n",
              "  <div id=\"id_daf27d2b-b5d5-4c86-863d-cc66b63566ea\">\n",
              "    <style>\n",
              "      .colab-df-generate {\n",
              "        background-color: #E8F0FE;\n",
              "        border: none;\n",
              "        border-radius: 50%;\n",
              "        cursor: pointer;\n",
              "        display: none;\n",
              "        fill: #1967D2;\n",
              "        height: 32px;\n",
              "        padding: 0 0 0 0;\n",
              "        width: 32px;\n",
              "      }\n",
              "\n",
              "      .colab-df-generate:hover {\n",
              "        background-color: #E2EBFA;\n",
              "        box-shadow: 0px 1px 2px rgba(60, 64, 67, 0.3), 0px 1px 3px 1px rgba(60, 64, 67, 0.15);\n",
              "        fill: #174EA6;\n",
              "      }\n",
              "\n",
              "      [theme=dark] .colab-df-generate {\n",
              "        background-color: #3B4455;\n",
              "        fill: #D2E3FC;\n",
              "      }\n",
              "\n",
              "      [theme=dark] .colab-df-generate:hover {\n",
              "        background-color: #434B5C;\n",
              "        box-shadow: 0px 1px 3px 1px rgba(0, 0, 0, 0.15);\n",
              "        filter: drop-shadow(0px 1px 2px rgba(0, 0, 0, 0.3));\n",
              "        fill: #FFFFFF;\n",
              "      }\n",
              "    </style>\n",
              "    <button class=\"colab-df-generate\" onclick=\"generateWithVariable('hikaru')\"\n",
              "            title=\"Generate code using this dataframe.\"\n",
              "            style=\"display:none;\">\n",
              "\n",
              "  <svg xmlns=\"http://www.w3.org/2000/svg\" height=\"24px\"viewBox=\"0 0 24 24\"\n",
              "       width=\"24px\">\n",
              "    <path d=\"M7,19H8.4L18.45,9,17,7.55,7,17.6ZM5,21V16.75L18.45,3.32a2,2,0,0,1,2.83,0l1.4,1.43a1.91,1.91,0,0,1,.58,1.4,1.91,1.91,0,0,1-.58,1.4L9.25,21ZM18.45,9,17,7.55Zm-12,3A5.31,5.31,0,0,0,4.9,8.1,5.31,5.31,0,0,0,1,6.5,5.31,5.31,0,0,0,4.9,4.9,5.31,5.31,0,0,0,6.5,1,5.31,5.31,0,0,0,8.1,4.9,5.31,5.31,0,0,0,12,6.5,5.46,5.46,0,0,0,6.5,12Z\"/>\n",
              "  </svg>\n",
              "    </button>\n",
              "    <script>\n",
              "      (() => {\n",
              "      const buttonEl =\n",
              "        document.querySelector('#id_daf27d2b-b5d5-4c86-863d-cc66b63566ea button.colab-df-generate');\n",
              "      buttonEl.style.display =\n",
              "        google.colab.kernel.accessAllowed ? 'block' : 'none';\n",
              "\n",
              "      buttonEl.onclick = () => {\n",
              "        google.colab.notebook.generateWithVariable('hikaru');\n",
              "      }\n",
              "      })();\n",
              "    </script>\n",
              "  </div>\n",
              "\n",
              "    </div>\n",
              "  </div>\n"
            ],
            "application/vnd.google.colaboratory.intrinsic+json": {
              "type": "dataframe",
              "variable_name": "hikaru",
              "repr_error": "0"
            }
          },
          "metadata": {},
          "execution_count": 38
        }
      ]
    },
    {
      "cell_type": "markdown",
      "source": [
        "Now that we have that done we see that we have more than enough data to use for our beta binomial predictive model.\n",
        "\n",
        "Now that we have the data required to make a strong predictive model, we need to see how many wins and not wins there are. Not wins consist of losses and draws, anything that is not a win."
      ],
      "metadata": {
        "id": "juxSejIsn8lg"
      }
    },
    {
      "cell_type": "code",
      "source": [
        "win = hikaru.query('result == \"win\"').shape[0]\n",
        "loss = hikaru.query('result == \"resigned\"').shape[0]\n",
        "loss += hikaru.query('result == \"checkmated\"').shape[0]\n",
        "loss += hikaru.query('result == \"timeout\"').shape[0]\n",
        "loss += hikaru.query('result == \"abandoned\"').shape[0]\n",
        "loss += hikaru.query('result == \"50move\"').shape[0]\n",
        "loss += hikaru.query('result == \"repetition\"').shape[0]\n",
        "loss += hikaru.query('result == \"insufficient\"').shape[0]\n",
        "loss += hikaru.query('result == \"timevsinsufficient\"').shape[0]\n",
        "loss += hikaru.query('result == \"stalemate\"').shape[0]\n",
        "loss += hikaru.query('result == \"agreed\"').shape[0]\n",
        "\n",
        "total = win + loss"
      ],
      "metadata": {
        "id": "MaeROAh71_Oa"
      },
      "execution_count": 39,
      "outputs": []
    },
    {
      "cell_type": "code",
      "source": [
        "win"
      ],
      "metadata": {
        "colab": {
          "base_uri": "https://localhost:8080/"
        },
        "id": "v9QqQIcR27P7",
        "outputId": "91834f03-80d7-4be6-f84a-48bf56a93b06"
      },
      "execution_count": 40,
      "outputs": [
        {
          "output_type": "execute_result",
          "data": {
            "text/plain": [
              "8461"
            ]
          },
          "metadata": {},
          "execution_count": 40
        }
      ]
    },
    {
      "cell_type": "code",
      "source": [
        "loss"
      ],
      "metadata": {
        "colab": {
          "base_uri": "https://localhost:8080/"
        },
        "id": "7SfQexsC4ax9",
        "outputId": "855ec32e-68f0-4e7d-a1fc-4aef57f26e73"
      },
      "execution_count": 41,
      "outputs": [
        {
          "output_type": "execute_result",
          "data": {
            "text/plain": [
              "4755"
            ]
          },
          "metadata": {},
          "execution_count": 41
        }
      ]
    },
    {
      "cell_type": "markdown",
      "source": [
        "Now that we have the data filtered into only two outcomes, we can use this to make a likelihood distribution using a binomial distribution function. The reason that we would want to create a likelihood distribution is so that we can visualize the likelihood of a certain number of successes occuring. In other words, we want to see how likely each success rate is. Each point on the binomial distribution is one of the many possibile success numbers."
      ],
      "metadata": {
        "id": "ixyrm9WtJRZt"
      }
    },
    {
      "cell_type": "code",
      "source": [
        "pz.Binomial(n = 13216, p = 8461/13216).plot_pdf()"
      ],
      "metadata": {
        "colab": {
          "base_uri": "https://localhost:8080/",
          "height": 447
        },
        "id": "RHtsBb60ijiN",
        "outputId": "27cbef7a-54f0-4f9d-faec-8b1089468255"
      },
      "execution_count": 42,
      "outputs": [
        {
          "output_type": "execute_result",
          "data": {
            "text/plain": [
              "<Axes: >"
            ]
          },
          "metadata": {},
          "execution_count": 42
        },
        {
          "output_type": "display_data",
          "data": {
            "text/plain": [
              "<Figure size 640x480 with 1 Axes>"
            ],
            "image/png": "[encoded data removed]"
          },
          "metadata": {}
        }
      ]
    },
    {
      "cell_type": "markdown",
      "source": [
        "# **Posterior Prediction**\n",
        "\n",
        "By looking at our prior mean from the prior data, we can say that ther is a 60% chance of success (or winning). But in order to have a solid predictive model we need to use the games that are more recent and in a larger number. We can't use just 100 theoretical games to make a reliable prediction model.\n",
        "\n",
        "What we can do is use the larger dataset with ~38000 games and substitute them into the sampler below. By replacing the win and loss values we can model a prediction based on the data that we have. The code below is making a sample for a posterior using the PYMC library. I will use this to visualize the posterior on a graph later on."
      ],
      "metadata": {
        "id": "DybFmZ9wLYS_"
      }
    },
    {
      "cell_type": "code",
      "source": [
        "#setting variables to win and loss respectively.\n",
        "w = win\n",
        "l = loss\n",
        "\n",
        "# the w value is 28884 but i am using a variable to make it more streamlined\n",
        "wins = np.repeat(1, w)\n",
        "# the l value is 9120 but i am using a variable to make it more streamlined\n",
        "losses = np.repeat(0, l)\n",
        "\n",
        "# combining all of the data into a data variable\n",
        "data = np.concatenate( [wins,losses] )\n",
        "\n",
        "with pm.Model() as hikarumodel:\n",
        "  # beta prior\n",
        "  θ = pm.Beta('θ' , alpha = 60. , beta = 40.)\n",
        "\n",
        "  #likelihood using bernoulli distribution\n",
        "  y = pm.Bernoulli('y', p = θ, observed = data)\n",
        "\n",
        "  #the sample that we use for posterior\n",
        "  hikarusample = pm.sample(1000, progressbar=False)"
      ],
      "metadata": {
        "id": "p0VA2ODqdcPp"
      },
      "execution_count": 43,
      "outputs": []
    },
    {
      "cell_type": "markdown",
      "source": [
        "The code above essentially created a sample \"packet\" that we can now graph by using the plot_posterior command from the arviz library."
      ],
      "metadata": {
        "id": "hZVaVjPJZs5O"
      }
    },
    {
      "cell_type": "code",
      "source": [
        "az.plot_posterior(hikarusample)"
      ],
      "metadata": {
        "id": "Im3txWiKd4F5",
        "outputId": "64bf8733-9cc0-4d1d-ceb0-b1600bbb9b1b",
        "colab": {
          "base_uri": "https://localhost:8080/",
          "height": 475
        }
      },
      "execution_count": 44,
      "outputs": [
        {
          "output_type": "execute_result",
          "data": {
            "text/plain": [
              "<Axes: title={'center': 'θ'}>"
            ]
          },
          "metadata": {},
          "execution_count": 44
        },
        {
          "output_type": "display_data",
          "data": {
            "text/plain": [
              "<Figure size 640x480 with 1 Axes>"
            ],
            "image/png": "[encoded data removed]"
          },
          "metadata": {}
        }
      ]
    },
    {
      "cell_type": "markdown",
      "source": [
        "# **Conclusion**\n",
        "\n",
        "Looking at the graph above, we can make some conclusions:\n",
        "* The likelihood of Hikaru winning a blitz chess game is around 64%\n",
        "* This is extremely close to the mean of my prior which was 60%\n",
        "* My posterior pretty closely resembles my prior data beta distribution\n",
        "* Although my prior was pretty close to the likelihood, this might be because the prior data might have been too small of a data set."
      ],
      "metadata": {
        "id": "4E06Ja2walxH"
      }
    },
    {
      "cell_type": "markdown",
      "source": [
        "# **Insights**\n",
        "\n"
      ],
      "metadata": {
        "id": "_DpqyL6ZwBmE"
      }
    }
  ]
}